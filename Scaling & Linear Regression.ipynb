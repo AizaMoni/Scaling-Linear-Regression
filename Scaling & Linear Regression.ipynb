{
 "cells": [
  {
   "cell_type": "markdown",
   "id": "b5cc894b",
   "metadata": {},
   "source": [
    "# Part 1: Data Preprocessing\n"
   ]
  },
  {
   "cell_type": "code",
   "execution_count": 1,
   "id": "926bb599",
   "metadata": {},
   "outputs": [],
   "source": [
    "import pandas as pd \n",
    "import numpy as np \n",
    "from matplotlib import pyplot as plt "
   ]
  },
  {
   "cell_type": "code",
   "execution_count": 2,
   "id": "a1da5820",
   "metadata": {},
   "outputs": [],
   "source": [
    "df = pd.read_csv(\"Real estate.csv\")"
   ]
  },
  {
   "cell_type": "code",
   "execution_count": 3,
   "id": "e35502e5",
   "metadata": {},
   "outputs": [
    {
     "data": {
      "text/html": [
       "<div>\n",
       "<style scoped>\n",
       "    .dataframe tbody tr th:only-of-type {\n",
       "        vertical-align: middle;\n",
       "    }\n",
       "\n",
       "    .dataframe tbody tr th {\n",
       "        vertical-align: top;\n",
       "    }\n",
       "\n",
       "    .dataframe thead th {\n",
       "        text-align: right;\n",
       "    }\n",
       "</style>\n",
       "<table border=\"1\" class=\"dataframe\">\n",
       "  <thead>\n",
       "    <tr style=\"text-align: right;\">\n",
       "      <th></th>\n",
       "      <th>No</th>\n",
       "      <th>X1 transaction date</th>\n",
       "      <th>X2 house age</th>\n",
       "      <th>X3 distance to the nearest MRT station</th>\n",
       "      <th>X4 number of convenience stores</th>\n",
       "      <th>X5 latitude</th>\n",
       "      <th>X6 longitude</th>\n",
       "      <th>Y house price of unit area</th>\n",
       "    </tr>\n",
       "  </thead>\n",
       "  <tbody>\n",
       "    <tr>\n",
       "      <th>0</th>\n",
       "      <td>1</td>\n",
       "      <td>2012.917</td>\n",
       "      <td>32.0</td>\n",
       "      <td>84.87882</td>\n",
       "      <td>10</td>\n",
       "      <td>24.98298</td>\n",
       "      <td>121.54024</td>\n",
       "      <td>37.9</td>\n",
       "    </tr>\n",
       "    <tr>\n",
       "      <th>1</th>\n",
       "      <td>2</td>\n",
       "      <td>2012.917</td>\n",
       "      <td>19.5</td>\n",
       "      <td>306.59470</td>\n",
       "      <td>9</td>\n",
       "      <td>24.98034</td>\n",
       "      <td>121.53951</td>\n",
       "      <td>42.2</td>\n",
       "    </tr>\n",
       "    <tr>\n",
       "      <th>2</th>\n",
       "      <td>3</td>\n",
       "      <td>2013.583</td>\n",
       "      <td>13.3</td>\n",
       "      <td>561.98450</td>\n",
       "      <td>5</td>\n",
       "      <td>24.98746</td>\n",
       "      <td>121.54391</td>\n",
       "      <td>47.3</td>\n",
       "    </tr>\n",
       "    <tr>\n",
       "      <th>3</th>\n",
       "      <td>4</td>\n",
       "      <td>2013.500</td>\n",
       "      <td>13.3</td>\n",
       "      <td>561.98450</td>\n",
       "      <td>5</td>\n",
       "      <td>24.98746</td>\n",
       "      <td>121.54391</td>\n",
       "      <td>54.8</td>\n",
       "    </tr>\n",
       "    <tr>\n",
       "      <th>4</th>\n",
       "      <td>5</td>\n",
       "      <td>2012.833</td>\n",
       "      <td>5.0</td>\n",
       "      <td>390.56840</td>\n",
       "      <td>5</td>\n",
       "      <td>24.97937</td>\n",
       "      <td>121.54245</td>\n",
       "      <td>43.1</td>\n",
       "    </tr>\n",
       "    <tr>\n",
       "      <th>...</th>\n",
       "      <td>...</td>\n",
       "      <td>...</td>\n",
       "      <td>...</td>\n",
       "      <td>...</td>\n",
       "      <td>...</td>\n",
       "      <td>...</td>\n",
       "      <td>...</td>\n",
       "      <td>...</td>\n",
       "    </tr>\n",
       "    <tr>\n",
       "      <th>409</th>\n",
       "      <td>410</td>\n",
       "      <td>2013.000</td>\n",
       "      <td>13.7</td>\n",
       "      <td>4082.01500</td>\n",
       "      <td>0</td>\n",
       "      <td>24.94155</td>\n",
       "      <td>121.50381</td>\n",
       "      <td>15.4</td>\n",
       "    </tr>\n",
       "    <tr>\n",
       "      <th>410</th>\n",
       "      <td>411</td>\n",
       "      <td>2012.667</td>\n",
       "      <td>5.6</td>\n",
       "      <td>90.45606</td>\n",
       "      <td>9</td>\n",
       "      <td>24.97433</td>\n",
       "      <td>121.54310</td>\n",
       "      <td>50.0</td>\n",
       "    </tr>\n",
       "    <tr>\n",
       "      <th>411</th>\n",
       "      <td>412</td>\n",
       "      <td>2013.250</td>\n",
       "      <td>18.8</td>\n",
       "      <td>390.96960</td>\n",
       "      <td>7</td>\n",
       "      <td>24.97923</td>\n",
       "      <td>121.53986</td>\n",
       "      <td>40.6</td>\n",
       "    </tr>\n",
       "    <tr>\n",
       "      <th>412</th>\n",
       "      <td>413</td>\n",
       "      <td>2013.000</td>\n",
       "      <td>8.1</td>\n",
       "      <td>104.81010</td>\n",
       "      <td>5</td>\n",
       "      <td>24.96674</td>\n",
       "      <td>121.54067</td>\n",
       "      <td>52.5</td>\n",
       "    </tr>\n",
       "    <tr>\n",
       "      <th>413</th>\n",
       "      <td>414</td>\n",
       "      <td>2013.500</td>\n",
       "      <td>6.5</td>\n",
       "      <td>90.45606</td>\n",
       "      <td>9</td>\n",
       "      <td>24.97433</td>\n",
       "      <td>121.54310</td>\n",
       "      <td>63.9</td>\n",
       "    </tr>\n",
       "  </tbody>\n",
       "</table>\n",
       "<p>414 rows × 8 columns</p>\n",
       "</div>"
      ],
      "text/plain": [
       "      No  X1 transaction date  X2 house age  \\\n",
       "0      1             2012.917          32.0   \n",
       "1      2             2012.917          19.5   \n",
       "2      3             2013.583          13.3   \n",
       "3      4             2013.500          13.3   \n",
       "4      5             2012.833           5.0   \n",
       "..   ...                  ...           ...   \n",
       "409  410             2013.000          13.7   \n",
       "410  411             2012.667           5.6   \n",
       "411  412             2013.250          18.8   \n",
       "412  413             2013.000           8.1   \n",
       "413  414             2013.500           6.5   \n",
       "\n",
       "     X3 distance to the nearest MRT station  X4 number of convenience stores  \\\n",
       "0                                  84.87882                               10   \n",
       "1                                 306.59470                                9   \n",
       "2                                 561.98450                                5   \n",
       "3                                 561.98450                                5   \n",
       "4                                 390.56840                                5   \n",
       "..                                      ...                              ...   \n",
       "409                              4082.01500                                0   \n",
       "410                                90.45606                                9   \n",
       "411                               390.96960                                7   \n",
       "412                               104.81010                                5   \n",
       "413                                90.45606                                9   \n",
       "\n",
       "     X5 latitude  X6 longitude  Y house price of unit area  \n",
       "0       24.98298     121.54024                        37.9  \n",
       "1       24.98034     121.53951                        42.2  \n",
       "2       24.98746     121.54391                        47.3  \n",
       "3       24.98746     121.54391                        54.8  \n",
       "4       24.97937     121.54245                        43.1  \n",
       "..           ...           ...                         ...  \n",
       "409     24.94155     121.50381                        15.4  \n",
       "410     24.97433     121.54310                        50.0  \n",
       "411     24.97923     121.53986                        40.6  \n",
       "412     24.96674     121.54067                        52.5  \n",
       "413     24.97433     121.54310                        63.9  \n",
       "\n",
       "[414 rows x 8 columns]"
      ]
     },
     "execution_count": 3,
     "metadata": {},
     "output_type": "execute_result"
    }
   ],
   "source": [
    "df"
   ]
  },
  {
   "cell_type": "markdown",
   "id": "7a8754e4",
   "metadata": {},
   "source": [
    "# Dta Preprocessing"
   ]
  },
  {
   "cell_type": "code",
   "execution_count": 4,
   "id": "55e5593c",
   "metadata": {},
   "outputs": [
    {
     "data": {
      "text/html": [
       "<div>\n",
       "<style scoped>\n",
       "    .dataframe tbody tr th:only-of-type {\n",
       "        vertical-align: middle;\n",
       "    }\n",
       "\n",
       "    .dataframe tbody tr th {\n",
       "        vertical-align: top;\n",
       "    }\n",
       "\n",
       "    .dataframe thead th {\n",
       "        text-align: right;\n",
       "    }\n",
       "</style>\n",
       "<table border=\"1\" class=\"dataframe\">\n",
       "  <thead>\n",
       "    <tr style=\"text-align: right;\">\n",
       "      <th></th>\n",
       "      <th>No</th>\n",
       "      <th>X1 transaction date</th>\n",
       "      <th>X2 house age</th>\n",
       "      <th>X3 distance to the nearest MRT station</th>\n",
       "      <th>X4 number of convenience stores</th>\n",
       "      <th>X5 latitude</th>\n",
       "      <th>X6 longitude</th>\n",
       "      <th>Y house price of unit area</th>\n",
       "    </tr>\n",
       "  </thead>\n",
       "  <tbody>\n",
       "    <tr>\n",
       "      <th>0</th>\n",
       "      <td>1</td>\n",
       "      <td>2012.917</td>\n",
       "      <td>32.0</td>\n",
       "      <td>84.87882</td>\n",
       "      <td>10</td>\n",
       "      <td>24.98298</td>\n",
       "      <td>121.54024</td>\n",
       "      <td>37.9</td>\n",
       "    </tr>\n",
       "    <tr>\n",
       "      <th>1</th>\n",
       "      <td>2</td>\n",
       "      <td>2012.917</td>\n",
       "      <td>19.5</td>\n",
       "      <td>306.59470</td>\n",
       "      <td>9</td>\n",
       "      <td>24.98034</td>\n",
       "      <td>121.53951</td>\n",
       "      <td>42.2</td>\n",
       "    </tr>\n",
       "    <tr>\n",
       "      <th>2</th>\n",
       "      <td>3</td>\n",
       "      <td>2013.583</td>\n",
       "      <td>13.3</td>\n",
       "      <td>561.98450</td>\n",
       "      <td>5</td>\n",
       "      <td>24.98746</td>\n",
       "      <td>121.54391</td>\n",
       "      <td>47.3</td>\n",
       "    </tr>\n",
       "    <tr>\n",
       "      <th>3</th>\n",
       "      <td>4</td>\n",
       "      <td>2013.500</td>\n",
       "      <td>13.3</td>\n",
       "      <td>561.98450</td>\n",
       "      <td>5</td>\n",
       "      <td>24.98746</td>\n",
       "      <td>121.54391</td>\n",
       "      <td>54.8</td>\n",
       "    </tr>\n",
       "    <tr>\n",
       "      <th>4</th>\n",
       "      <td>5</td>\n",
       "      <td>2012.833</td>\n",
       "      <td>5.0</td>\n",
       "      <td>390.56840</td>\n",
       "      <td>5</td>\n",
       "      <td>24.97937</td>\n",
       "      <td>121.54245</td>\n",
       "      <td>43.1</td>\n",
       "    </tr>\n",
       "  </tbody>\n",
       "</table>\n",
       "</div>"
      ],
      "text/plain": [
       "   No  X1 transaction date  X2 house age  \\\n",
       "0   1             2012.917          32.0   \n",
       "1   2             2012.917          19.5   \n",
       "2   3             2013.583          13.3   \n",
       "3   4             2013.500          13.3   \n",
       "4   5             2012.833           5.0   \n",
       "\n",
       "   X3 distance to the nearest MRT station  X4 number of convenience stores  \\\n",
       "0                                84.87882                               10   \n",
       "1                               306.59470                                9   \n",
       "2                               561.98450                                5   \n",
       "3                               561.98450                                5   \n",
       "4                               390.56840                                5   \n",
       "\n",
       "   X5 latitude  X6 longitude  Y house price of unit area  \n",
       "0     24.98298     121.54024                        37.9  \n",
       "1     24.98034     121.53951                        42.2  \n",
       "2     24.98746     121.54391                        47.3  \n",
       "3     24.98746     121.54391                        54.8  \n",
       "4     24.97937     121.54245                        43.1  "
      ]
     },
     "execution_count": 4,
     "metadata": {},
     "output_type": "execute_result"
    }
   ],
   "source": [
    "df.head()"
   ]
  },
  {
   "cell_type": "code",
   "execution_count": 5,
   "id": "7bb627c0",
   "metadata": {},
   "outputs": [],
   "source": [
    "x = df.drop('Y house price of unit area', axis=1)"
   ]
  },
  {
   "cell_type": "code",
   "execution_count": 6,
   "id": "b14a0c36",
   "metadata": {},
   "outputs": [
    {
     "data": {
      "text/html": [
       "<div>\n",
       "<style scoped>\n",
       "    .dataframe tbody tr th:only-of-type {\n",
       "        vertical-align: middle;\n",
       "    }\n",
       "\n",
       "    .dataframe tbody tr th {\n",
       "        vertical-align: top;\n",
       "    }\n",
       "\n",
       "    .dataframe thead th {\n",
       "        text-align: right;\n",
       "    }\n",
       "</style>\n",
       "<table border=\"1\" class=\"dataframe\">\n",
       "  <thead>\n",
       "    <tr style=\"text-align: right;\">\n",
       "      <th></th>\n",
       "      <th>No</th>\n",
       "      <th>X1 transaction date</th>\n",
       "      <th>X2 house age</th>\n",
       "      <th>X3 distance to the nearest MRT station</th>\n",
       "      <th>X4 number of convenience stores</th>\n",
       "      <th>X5 latitude</th>\n",
       "      <th>X6 longitude</th>\n",
       "    </tr>\n",
       "  </thead>\n",
       "  <tbody>\n",
       "    <tr>\n",
       "      <th>0</th>\n",
       "      <td>1</td>\n",
       "      <td>2012.917</td>\n",
       "      <td>32.0</td>\n",
       "      <td>84.87882</td>\n",
       "      <td>10</td>\n",
       "      <td>24.98298</td>\n",
       "      <td>121.54024</td>\n",
       "    </tr>\n",
       "    <tr>\n",
       "      <th>1</th>\n",
       "      <td>2</td>\n",
       "      <td>2012.917</td>\n",
       "      <td>19.5</td>\n",
       "      <td>306.59470</td>\n",
       "      <td>9</td>\n",
       "      <td>24.98034</td>\n",
       "      <td>121.53951</td>\n",
       "    </tr>\n",
       "    <tr>\n",
       "      <th>2</th>\n",
       "      <td>3</td>\n",
       "      <td>2013.583</td>\n",
       "      <td>13.3</td>\n",
       "      <td>561.98450</td>\n",
       "      <td>5</td>\n",
       "      <td>24.98746</td>\n",
       "      <td>121.54391</td>\n",
       "    </tr>\n",
       "    <tr>\n",
       "      <th>3</th>\n",
       "      <td>4</td>\n",
       "      <td>2013.500</td>\n",
       "      <td>13.3</td>\n",
       "      <td>561.98450</td>\n",
       "      <td>5</td>\n",
       "      <td>24.98746</td>\n",
       "      <td>121.54391</td>\n",
       "    </tr>\n",
       "    <tr>\n",
       "      <th>4</th>\n",
       "      <td>5</td>\n",
       "      <td>2012.833</td>\n",
       "      <td>5.0</td>\n",
       "      <td>390.56840</td>\n",
       "      <td>5</td>\n",
       "      <td>24.97937</td>\n",
       "      <td>121.54245</td>\n",
       "    </tr>\n",
       "  </tbody>\n",
       "</table>\n",
       "</div>"
      ],
      "text/plain": [
       "   No  X1 transaction date  X2 house age  \\\n",
       "0   1             2012.917          32.0   \n",
       "1   2             2012.917          19.5   \n",
       "2   3             2013.583          13.3   \n",
       "3   4             2013.500          13.3   \n",
       "4   5             2012.833           5.0   \n",
       "\n",
       "   X3 distance to the nearest MRT station  X4 number of convenience stores  \\\n",
       "0                                84.87882                               10   \n",
       "1                               306.59470                                9   \n",
       "2                               561.98450                                5   \n",
       "3                               561.98450                                5   \n",
       "4                               390.56840                                5   \n",
       "\n",
       "   X5 latitude  X6 longitude  \n",
       "0     24.98298     121.54024  \n",
       "1     24.98034     121.53951  \n",
       "2     24.98746     121.54391  \n",
       "3     24.98746     121.54391  \n",
       "4     24.97937     121.54245  "
      ]
     },
     "execution_count": 6,
     "metadata": {},
     "output_type": "execute_result"
    }
   ],
   "source": [
    "x.head()"
   ]
  },
  {
   "cell_type": "code",
   "execution_count": 7,
   "id": "0a39ce50",
   "metadata": {},
   "outputs": [
    {
     "data": {
      "text/plain": [
       "(414, 7)"
      ]
     },
     "execution_count": 7,
     "metadata": {},
     "output_type": "execute_result"
    }
   ],
   "source": [
    "x.shape"
   ]
  },
  {
   "cell_type": "code",
   "execution_count": 8,
   "id": "1c51cb3d",
   "metadata": {},
   "outputs": [
    {
     "data": {
      "text/plain": [
       "0    37.9\n",
       "1    42.2\n",
       "2    47.3\n",
       "3    54.8\n",
       "4    43.1\n",
       "Name: Y house price of unit area, dtype: float64"
      ]
     },
     "execution_count": 8,
     "metadata": {},
     "output_type": "execute_result"
    }
   ],
   "source": [
    "y = df['Y house price of unit area']\n",
    "y.head()"
   ]
  },
  {
   "cell_type": "code",
   "execution_count": 9,
   "id": "c1bde1a9",
   "metadata": {},
   "outputs": [
    {
     "data": {
      "text/html": [
       "<div>\n",
       "<style scoped>\n",
       "    .dataframe tbody tr th:only-of-type {\n",
       "        vertical-align: middle;\n",
       "    }\n",
       "\n",
       "    .dataframe tbody tr th {\n",
       "        vertical-align: top;\n",
       "    }\n",
       "\n",
       "    .dataframe thead th {\n",
       "        text-align: right;\n",
       "    }\n",
       "</style>\n",
       "<table border=\"1\" class=\"dataframe\">\n",
       "  <thead>\n",
       "    <tr style=\"text-align: right;\">\n",
       "      <th></th>\n",
       "      <th>No</th>\n",
       "      <th>X1 transaction date</th>\n",
       "      <th>X2 house age</th>\n",
       "      <th>X3 distance to the nearest MRT station</th>\n",
       "      <th>X4 number of convenience stores</th>\n",
       "      <th>X5 latitude</th>\n",
       "      <th>X6 longitude</th>\n",
       "      <th>Y house price of unit area</th>\n",
       "    </tr>\n",
       "  </thead>\n",
       "  <tbody>\n",
       "    <tr>\n",
       "      <th>count</th>\n",
       "      <td>414.000000</td>\n",
       "      <td>414.000000</td>\n",
       "      <td>414.000000</td>\n",
       "      <td>414.000000</td>\n",
       "      <td>414.000000</td>\n",
       "      <td>414.000000</td>\n",
       "      <td>414.000000</td>\n",
       "      <td>414.000000</td>\n",
       "    </tr>\n",
       "    <tr>\n",
       "      <th>mean</th>\n",
       "      <td>207.500000</td>\n",
       "      <td>2013.148971</td>\n",
       "      <td>17.712560</td>\n",
       "      <td>1083.885689</td>\n",
       "      <td>4.094203</td>\n",
       "      <td>24.969030</td>\n",
       "      <td>121.533361</td>\n",
       "      <td>37.980193</td>\n",
       "    </tr>\n",
       "    <tr>\n",
       "      <th>std</th>\n",
       "      <td>119.655756</td>\n",
       "      <td>0.281967</td>\n",
       "      <td>11.392485</td>\n",
       "      <td>1262.109595</td>\n",
       "      <td>2.945562</td>\n",
       "      <td>0.012410</td>\n",
       "      <td>0.015347</td>\n",
       "      <td>13.606488</td>\n",
       "    </tr>\n",
       "    <tr>\n",
       "      <th>min</th>\n",
       "      <td>1.000000</td>\n",
       "      <td>2012.667000</td>\n",
       "      <td>0.000000</td>\n",
       "      <td>23.382840</td>\n",
       "      <td>0.000000</td>\n",
       "      <td>24.932070</td>\n",
       "      <td>121.473530</td>\n",
       "      <td>7.600000</td>\n",
       "    </tr>\n",
       "    <tr>\n",
       "      <th>25%</th>\n",
       "      <td>104.250000</td>\n",
       "      <td>2012.917000</td>\n",
       "      <td>9.025000</td>\n",
       "      <td>289.324800</td>\n",
       "      <td>1.000000</td>\n",
       "      <td>24.963000</td>\n",
       "      <td>121.528085</td>\n",
       "      <td>27.700000</td>\n",
       "    </tr>\n",
       "    <tr>\n",
       "      <th>50%</th>\n",
       "      <td>207.500000</td>\n",
       "      <td>2013.167000</td>\n",
       "      <td>16.100000</td>\n",
       "      <td>492.231300</td>\n",
       "      <td>4.000000</td>\n",
       "      <td>24.971100</td>\n",
       "      <td>121.538630</td>\n",
       "      <td>38.450000</td>\n",
       "    </tr>\n",
       "    <tr>\n",
       "      <th>75%</th>\n",
       "      <td>310.750000</td>\n",
       "      <td>2013.417000</td>\n",
       "      <td>28.150000</td>\n",
       "      <td>1454.279000</td>\n",
       "      <td>6.000000</td>\n",
       "      <td>24.977455</td>\n",
       "      <td>121.543305</td>\n",
       "      <td>46.600000</td>\n",
       "    </tr>\n",
       "    <tr>\n",
       "      <th>max</th>\n",
       "      <td>414.000000</td>\n",
       "      <td>2013.583000</td>\n",
       "      <td>43.800000</td>\n",
       "      <td>6488.021000</td>\n",
       "      <td>10.000000</td>\n",
       "      <td>25.014590</td>\n",
       "      <td>121.566270</td>\n",
       "      <td>117.500000</td>\n",
       "    </tr>\n",
       "  </tbody>\n",
       "</table>\n",
       "</div>"
      ],
      "text/plain": [
       "               No  X1 transaction date  X2 house age  \\\n",
       "count  414.000000           414.000000    414.000000   \n",
       "mean   207.500000          2013.148971     17.712560   \n",
       "std    119.655756             0.281967     11.392485   \n",
       "min      1.000000          2012.667000      0.000000   \n",
       "25%    104.250000          2012.917000      9.025000   \n",
       "50%    207.500000          2013.167000     16.100000   \n",
       "75%    310.750000          2013.417000     28.150000   \n",
       "max    414.000000          2013.583000     43.800000   \n",
       "\n",
       "       X3 distance to the nearest MRT station  \\\n",
       "count                              414.000000   \n",
       "mean                              1083.885689   \n",
       "std                               1262.109595   \n",
       "min                                 23.382840   \n",
       "25%                                289.324800   \n",
       "50%                                492.231300   \n",
       "75%                               1454.279000   \n",
       "max                               6488.021000   \n",
       "\n",
       "       X4 number of convenience stores  X5 latitude  X6 longitude  \\\n",
       "count                       414.000000   414.000000    414.000000   \n",
       "mean                          4.094203    24.969030    121.533361   \n",
       "std                           2.945562     0.012410      0.015347   \n",
       "min                           0.000000    24.932070    121.473530   \n",
       "25%                           1.000000    24.963000    121.528085   \n",
       "50%                           4.000000    24.971100    121.538630   \n",
       "75%                           6.000000    24.977455    121.543305   \n",
       "max                          10.000000    25.014590    121.566270   \n",
       "\n",
       "       Y house price of unit area  \n",
       "count                  414.000000  \n",
       "mean                    37.980193  \n",
       "std                     13.606488  \n",
       "min                      7.600000  \n",
       "25%                     27.700000  \n",
       "50%                     38.450000  \n",
       "75%                     46.600000  \n",
       "max                    117.500000  "
      ]
     },
     "execution_count": 9,
     "metadata": {},
     "output_type": "execute_result"
    }
   ],
   "source": [
    "df.describe()"
   ]
  },
  {
   "cell_type": "code",
   "execution_count": 10,
   "id": "9c0b8c87",
   "metadata": {},
   "outputs": [
    {
     "data": {
      "text/html": [
       "<div>\n",
       "<style scoped>\n",
       "    .dataframe tbody tr th:only-of-type {\n",
       "        vertical-align: middle;\n",
       "    }\n",
       "\n",
       "    .dataframe tbody tr th {\n",
       "        vertical-align: top;\n",
       "    }\n",
       "\n",
       "    .dataframe thead th {\n",
       "        text-align: right;\n",
       "    }\n",
       "</style>\n",
       "<table border=\"1\" class=\"dataframe\">\n",
       "  <thead>\n",
       "    <tr style=\"text-align: right;\">\n",
       "      <th></th>\n",
       "      <th>No</th>\n",
       "      <th>X1 transaction date</th>\n",
       "      <th>X2 house age</th>\n",
       "      <th>X3 distance to the nearest MRT station</th>\n",
       "      <th>X4 number of convenience stores</th>\n",
       "      <th>X5 latitude</th>\n",
       "      <th>X6 longitude</th>\n",
       "      <th>Y house price of unit area</th>\n",
       "    </tr>\n",
       "  </thead>\n",
       "  <tbody>\n",
       "    <tr>\n",
       "      <th>0</th>\n",
       "      <td>False</td>\n",
       "      <td>False</td>\n",
       "      <td>False</td>\n",
       "      <td>False</td>\n",
       "      <td>False</td>\n",
       "      <td>False</td>\n",
       "      <td>False</td>\n",
       "      <td>False</td>\n",
       "    </tr>\n",
       "    <tr>\n",
       "      <th>1</th>\n",
       "      <td>False</td>\n",
       "      <td>False</td>\n",
       "      <td>False</td>\n",
       "      <td>False</td>\n",
       "      <td>False</td>\n",
       "      <td>False</td>\n",
       "      <td>False</td>\n",
       "      <td>False</td>\n",
       "    </tr>\n",
       "    <tr>\n",
       "      <th>2</th>\n",
       "      <td>False</td>\n",
       "      <td>False</td>\n",
       "      <td>False</td>\n",
       "      <td>False</td>\n",
       "      <td>False</td>\n",
       "      <td>False</td>\n",
       "      <td>False</td>\n",
       "      <td>False</td>\n",
       "    </tr>\n",
       "    <tr>\n",
       "      <th>3</th>\n",
       "      <td>False</td>\n",
       "      <td>False</td>\n",
       "      <td>False</td>\n",
       "      <td>False</td>\n",
       "      <td>False</td>\n",
       "      <td>False</td>\n",
       "      <td>False</td>\n",
       "      <td>False</td>\n",
       "    </tr>\n",
       "    <tr>\n",
       "      <th>4</th>\n",
       "      <td>False</td>\n",
       "      <td>False</td>\n",
       "      <td>False</td>\n",
       "      <td>False</td>\n",
       "      <td>False</td>\n",
       "      <td>False</td>\n",
       "      <td>False</td>\n",
       "      <td>False</td>\n",
       "    </tr>\n",
       "    <tr>\n",
       "      <th>...</th>\n",
       "      <td>...</td>\n",
       "      <td>...</td>\n",
       "      <td>...</td>\n",
       "      <td>...</td>\n",
       "      <td>...</td>\n",
       "      <td>...</td>\n",
       "      <td>...</td>\n",
       "      <td>...</td>\n",
       "    </tr>\n",
       "    <tr>\n",
       "      <th>409</th>\n",
       "      <td>False</td>\n",
       "      <td>False</td>\n",
       "      <td>False</td>\n",
       "      <td>False</td>\n",
       "      <td>False</td>\n",
       "      <td>False</td>\n",
       "      <td>False</td>\n",
       "      <td>False</td>\n",
       "    </tr>\n",
       "    <tr>\n",
       "      <th>410</th>\n",
       "      <td>False</td>\n",
       "      <td>False</td>\n",
       "      <td>False</td>\n",
       "      <td>False</td>\n",
       "      <td>False</td>\n",
       "      <td>False</td>\n",
       "      <td>False</td>\n",
       "      <td>False</td>\n",
       "    </tr>\n",
       "    <tr>\n",
       "      <th>411</th>\n",
       "      <td>False</td>\n",
       "      <td>False</td>\n",
       "      <td>False</td>\n",
       "      <td>False</td>\n",
       "      <td>False</td>\n",
       "      <td>False</td>\n",
       "      <td>False</td>\n",
       "      <td>False</td>\n",
       "    </tr>\n",
       "    <tr>\n",
       "      <th>412</th>\n",
       "      <td>False</td>\n",
       "      <td>False</td>\n",
       "      <td>False</td>\n",
       "      <td>False</td>\n",
       "      <td>False</td>\n",
       "      <td>False</td>\n",
       "      <td>False</td>\n",
       "      <td>False</td>\n",
       "    </tr>\n",
       "    <tr>\n",
       "      <th>413</th>\n",
       "      <td>False</td>\n",
       "      <td>False</td>\n",
       "      <td>False</td>\n",
       "      <td>False</td>\n",
       "      <td>False</td>\n",
       "      <td>False</td>\n",
       "      <td>False</td>\n",
       "      <td>False</td>\n",
       "    </tr>\n",
       "  </tbody>\n",
       "</table>\n",
       "<p>414 rows × 8 columns</p>\n",
       "</div>"
      ],
      "text/plain": [
       "        No  X1 transaction date  X2 house age  \\\n",
       "0    False                False         False   \n",
       "1    False                False         False   \n",
       "2    False                False         False   \n",
       "3    False                False         False   \n",
       "4    False                False         False   \n",
       "..     ...                  ...           ...   \n",
       "409  False                False         False   \n",
       "410  False                False         False   \n",
       "411  False                False         False   \n",
       "412  False                False         False   \n",
       "413  False                False         False   \n",
       "\n",
       "     X3 distance to the nearest MRT station  X4 number of convenience stores  \\\n",
       "0                                     False                            False   \n",
       "1                                     False                            False   \n",
       "2                                     False                            False   \n",
       "3                                     False                            False   \n",
       "4                                     False                            False   \n",
       "..                                      ...                              ...   \n",
       "409                                   False                            False   \n",
       "410                                   False                            False   \n",
       "411                                   False                            False   \n",
       "412                                   False                            False   \n",
       "413                                   False                            False   \n",
       "\n",
       "     X5 latitude  X6 longitude  Y house price of unit area  \n",
       "0          False         False                       False  \n",
       "1          False         False                       False  \n",
       "2          False         False                       False  \n",
       "3          False         False                       False  \n",
       "4          False         False                       False  \n",
       "..           ...           ...                         ...  \n",
       "409        False         False                       False  \n",
       "410        False         False                       False  \n",
       "411        False         False                       False  \n",
       "412        False         False                       False  \n",
       "413        False         False                       False  \n",
       "\n",
       "[414 rows x 8 columns]"
      ]
     },
     "execution_count": 10,
     "metadata": {},
     "output_type": "execute_result"
    }
   ],
   "source": [
    "df.isnull()"
   ]
  },
  {
   "cell_type": "code",
   "execution_count": 11,
   "id": "98029178",
   "metadata": {},
   "outputs": [
    {
     "data": {
      "text/plain": [
       "No                                        0\n",
       "X1 transaction date                       0\n",
       "X2 house age                              0\n",
       "X3 distance to the nearest MRT station    0\n",
       "X4 number of convenience stores           0\n",
       "X5 latitude                               0\n",
       "X6 longitude                              0\n",
       "Y house price of unit area                0\n",
       "dtype: int64"
      ]
     },
     "execution_count": 11,
     "metadata": {},
     "output_type": "execute_result"
    }
   ],
   "source": [
    "df.isnull().sum()"
   ]
  },
  {
   "cell_type": "code",
   "execution_count": 12,
   "id": "272525cf",
   "metadata": {},
   "outputs": [],
   "source": [
    "import matplotlib.pyplot as plt\n",
    "import seaborn as sns\n",
    "%matplotlib inline"
   ]
  },
  {
   "cell_type": "code",
   "execution_count": 13,
   "id": "92b72f30",
   "metadata": {},
   "outputs": [
    {
     "data": {
      "image/png": "[encoded data removed]",
      "text/plain": [
       "<Figure size 432x288 with 1 Axes>"
      ]
     },
     "metadata": {
      "needs_background": "light"
     },
     "output_type": "display_data"
    }
   ],
   "source": [
    "sns.barplot(x = df['X2 house age'], y = df['Y house price of unit area']);\n"
   ]
  },
  {
   "cell_type": "markdown",
   "id": "36c73401",
   "metadata": {},
   "source": [
    "# Train Test Split"
   ]
  },
  {
   "cell_type": "code",
   "execution_count": 14,
   "id": "6242e1ba",
   "metadata": {},
   "outputs": [],
   "source": [
    "from sklearn.model_selection import train_test_split\n",
    "train, test=train_test_split(df, test_size=.30)"
   ]
  },
  {
   "cell_type": "code",
   "execution_count": 15,
   "id": "ddb74ba8",
   "metadata": {},
   "outputs": [
    {
     "data": {
      "text/html": [
       "<div>\n",
       "<style scoped>\n",
       "    .dataframe tbody tr th:only-of-type {\n",
       "        vertical-align: middle;\n",
       "    }\n",
       "\n",
       "    .dataframe tbody tr th {\n",
       "        vertical-align: top;\n",
       "    }\n",
       "\n",
       "    .dataframe thead th {\n",
       "        text-align: right;\n",
       "    }\n",
       "</style>\n",
       "<table border=\"1\" class=\"dataframe\">\n",
       "  <thead>\n",
       "    <tr style=\"text-align: right;\">\n",
       "      <th></th>\n",
       "      <th>No</th>\n",
       "      <th>X1 transaction date</th>\n",
       "      <th>X2 house age</th>\n",
       "      <th>X3 distance to the nearest MRT station</th>\n",
       "      <th>X4 number of convenience stores</th>\n",
       "      <th>X5 latitude</th>\n",
       "      <th>X6 longitude</th>\n",
       "      <th>Y house price of unit area</th>\n",
       "    </tr>\n",
       "  </thead>\n",
       "  <tbody>\n",
       "    <tr>\n",
       "      <th>283</th>\n",
       "      <td>284</td>\n",
       "      <td>2013.417</td>\n",
       "      <td>33.5</td>\n",
       "      <td>1978.67100</td>\n",
       "      <td>2</td>\n",
       "      <td>24.98674</td>\n",
       "      <td>121.51844</td>\n",
       "      <td>23.5</td>\n",
       "    </tr>\n",
       "    <tr>\n",
       "      <th>326</th>\n",
       "      <td>327</td>\n",
       "      <td>2013.500</td>\n",
       "      <td>4.1</td>\n",
       "      <td>56.47425</td>\n",
       "      <td>7</td>\n",
       "      <td>24.95744</td>\n",
       "      <td>121.53711</td>\n",
       "      <td>62.1</td>\n",
       "    </tr>\n",
       "    <tr>\n",
       "      <th>377</th>\n",
       "      <td>378</td>\n",
       "      <td>2013.333</td>\n",
       "      <td>3.9</td>\n",
       "      <td>49.66105</td>\n",
       "      <td>8</td>\n",
       "      <td>24.95836</td>\n",
       "      <td>121.53756</td>\n",
       "      <td>56.8</td>\n",
       "    </tr>\n",
       "    <tr>\n",
       "      <th>399</th>\n",
       "      <td>400</td>\n",
       "      <td>2012.917</td>\n",
       "      <td>12.7</td>\n",
       "      <td>170.12890</td>\n",
       "      <td>1</td>\n",
       "      <td>24.97371</td>\n",
       "      <td>121.52984</td>\n",
       "      <td>37.3</td>\n",
       "    </tr>\n",
       "    <tr>\n",
       "      <th>185</th>\n",
       "      <td>186</td>\n",
       "      <td>2012.750</td>\n",
       "      <td>31.4</td>\n",
       "      <td>1447.28600</td>\n",
       "      <td>3</td>\n",
       "      <td>24.97285</td>\n",
       "      <td>121.51730</td>\n",
       "      <td>21.5</td>\n",
       "    </tr>\n",
       "  </tbody>\n",
       "</table>\n",
       "</div>"
      ],
      "text/plain": [
       "      No  X1 transaction date  X2 house age  \\\n",
       "283  284             2013.417          33.5   \n",
       "326  327             2013.500           4.1   \n",
       "377  378             2013.333           3.9   \n",
       "399  400             2012.917          12.7   \n",
       "185  186             2012.750          31.4   \n",
       "\n",
       "     X3 distance to the nearest MRT station  X4 number of convenience stores  \\\n",
       "283                              1978.67100                                2   \n",
       "326                                56.47425                                7   \n",
       "377                                49.66105                                8   \n",
       "399                               170.12890                                1   \n",
       "185                              1447.28600                                3   \n",
       "\n",
       "     X5 latitude  X6 longitude  Y house price of unit area  \n",
       "283     24.98674     121.51844                        23.5  \n",
       "326     24.95744     121.53711                        62.1  \n",
       "377     24.95836     121.53756                        56.8  \n",
       "399     24.97371     121.52984                        37.3  \n",
       "185     24.97285     121.51730                        21.5  "
      ]
     },
     "execution_count": 15,
     "metadata": {},
     "output_type": "execute_result"
    }
   ],
   "source": [
    "train.head()"
   ]
  },
  {
   "cell_type": "code",
   "execution_count": 16,
   "id": "eb7a7143",
   "metadata": {},
   "outputs": [
    {
     "data": {
      "text/plain": [
       "(289, 8)"
      ]
     },
     "execution_count": 16,
     "metadata": {},
     "output_type": "execute_result"
    }
   ],
   "source": [
    "train.shape"
   ]
  },
  {
   "cell_type": "code",
   "execution_count": 17,
   "id": "96c1556b",
   "metadata": {},
   "outputs": [
    {
     "data": {
      "text/plain": [
       "(414, 8)"
      ]
     },
     "execution_count": 17,
     "metadata": {},
     "output_type": "execute_result"
    }
   ],
   "source": [
    "df.shape"
   ]
  },
  {
   "cell_type": "code",
   "execution_count": 18,
   "id": "b11d8a2c",
   "metadata": {},
   "outputs": [
    {
     "data": {
      "text/plain": [
       "(125, 8)"
      ]
     },
     "execution_count": 18,
     "metadata": {},
     "output_type": "execute_result"
    }
   ],
   "source": [
    "test.shape"
   ]
  },
  {
   "cell_type": "markdown",
   "id": "9c4682f2",
   "metadata": {},
   "source": [
    "# Standardize the feature columns"
   ]
  },
  {
   "cell_type": "code",
   "execution_count": 19,
   "id": "0893de68",
   "metadata": {},
   "outputs": [],
   "source": [
    "from sklearn.preprocessing import StandardScaler\n",
    "scaler = StandardScaler()"
   ]
  },
  {
   "cell_type": "code",
   "execution_count": 20,
   "id": "9e3851e5",
   "metadata": {},
   "outputs": [
    {
     "data": {
      "text/plain": [
       "11.392484533242536"
      ]
     },
     "execution_count": 20,
     "metadata": {},
     "output_type": "execute_result"
    }
   ],
   "source": [
    "x['X2 house age'].std()"
   ]
  },
  {
   "cell_type": "code",
   "execution_count": 21,
   "id": "4b82b6bd",
   "metadata": {},
   "outputs": [
    {
     "data": {
      "text/plain": [
       "17.71256038647343"
      ]
     },
     "execution_count": 21,
     "metadata": {},
     "output_type": "execute_result"
    }
   ],
   "source": [
    "x['X2 house age'].mean()"
   ]
  },
  {
   "cell_type": "code",
   "execution_count": 22,
   "id": "5a973980",
   "metadata": {},
   "outputs": [],
   "source": [
    "#do manually\n",
    "#Standardization: Xnew = Xi-Xmean/S.D  ,Xnew=13.6-17.71/11.39 ans=0.36,same for all data set"
   ]
  },
  {
   "cell_type": "code",
   "execution_count": 23,
   "id": "91542ba1",
   "metadata": {},
   "outputs": [
    {
     "name": "stdout",
     "output_type": "stream",
     "text": [
      "      No  X1 transaction date  X2 house age  \\\n",
      "0      1            -0.823683      1.255628   \n",
      "1      2            -0.823683      0.157086   \n",
      "2      3             1.541151     -0.387791   \n",
      "3      4             1.246435     -0.387791   \n",
      "4      5            -1.121951     -1.117223   \n",
      "..   ...                  ...           ...   \n",
      "409  410            -0.528967     -0.352637   \n",
      "410  411            -1.711384     -1.064493   \n",
      "411  412             0.358734      0.095568   \n",
      "412  413            -0.528967     -0.844784   \n",
      "413  414             1.246435     -0.985398   \n",
      "\n",
      "     X3 distance to the nearest MRT station  X4 number of convenience stores  \\\n",
      "0                                 -0.792495                         2.007407   \n",
      "1                                 -0.616612                         1.667503   \n",
      "2                                 -0.414015                         0.307885   \n",
      "3                                 -0.414015                         0.307885   \n",
      "4                                 -0.549997                         0.307885   \n",
      "..                                      ...                              ...   \n",
      "409                                2.378365                        -1.391638   \n",
      "410                               -0.788071                         1.667503   \n",
      "411                               -0.549678                         0.987694   \n",
      "412                               -0.776684                         0.307885   \n",
      "413                               -0.788071                         1.667503   \n",
      "\n",
      "     X5 latitude  X6 longitude  \n",
      "0       1.125430      0.448762  \n",
      "1       0.912444      0.401139  \n",
      "2       1.486860      0.688183  \n",
      "3       1.486860      0.688183  \n",
      "4       0.834188      0.592937  \n",
      "..           ...           ...  \n",
      "409    -2.216993     -1.927835  \n",
      "410     0.427579      0.635341  \n",
      "411     0.822893      0.423972  \n",
      "412    -0.184755      0.476814  \n",
      "413     0.427579      0.635341  \n",
      "\n",
      "[414 rows x 7 columns]\n"
     ]
    }
   ],
   "source": [
    "#Loop\n",
    "columns_to_standardize = ['X1 transaction date', 'X2 house age', 'X3 distance to the nearest MRT station','X4 number of convenience stores','X5 latitude','X6 longitude']\n",
    "# Loop through each column and normalize\n",
    "for column in columns_to_standardize:\n",
    "    x[[column]] = scaler.fit_transform(x[[column]])\n",
    "\n",
    "# Print the normalized data\n",
    "print(x)"
   ]
  },
  {
   "cell_type": "markdown",
   "id": "6248b2a6",
   "metadata": {},
   "source": [
    "# xtrain, xtest, ytrain, ytest Split"
   ]
  },
  {
   "cell_type": "code",
   "execution_count": 24,
   "id": "efb920ba",
   "metadata": {},
   "outputs": [],
   "source": [
    "xtrain, xtest, ytrain, ytest = train_test_split(x, y, test_size=.30, random_state=42)"
   ]
  },
  {
   "cell_type": "code",
   "execution_count": 25,
   "id": "efc1685e",
   "metadata": {},
   "outputs": [
    {
     "data": {
      "text/html": [
       "<div>\n",
       "<style scoped>\n",
       "    .dataframe tbody tr th:only-of-type {\n",
       "        vertical-align: middle;\n",
       "    }\n",
       "\n",
       "    .dataframe tbody tr th {\n",
       "        vertical-align: top;\n",
       "    }\n",
       "\n",
       "    .dataframe thead th {\n",
       "        text-align: right;\n",
       "    }\n",
       "</style>\n",
       "<table border=\"1\" class=\"dataframe\">\n",
       "  <thead>\n",
       "    <tr style=\"text-align: right;\">\n",
       "      <th></th>\n",
       "      <th>No</th>\n",
       "      <th>X1 transaction date</th>\n",
       "      <th>X2 house age</th>\n",
       "      <th>X3 distance to the nearest MRT station</th>\n",
       "      <th>X4 number of convenience stores</th>\n",
       "      <th>X5 latitude</th>\n",
       "      <th>X6 longitude</th>\n",
       "    </tr>\n",
       "  </thead>\n",
       "  <tbody>\n",
       "    <tr>\n",
       "      <th>7</th>\n",
       "      <td>8</td>\n",
       "      <td>0.951718</td>\n",
       "      <td>0.227393</td>\n",
       "      <td>-0.631678</td>\n",
       "      <td>0.647789</td>\n",
       "      <td>0.918898</td>\n",
       "      <td>0.581846</td>\n",
       "    </tr>\n",
       "    <tr>\n",
       "      <th>194</th>\n",
       "      <td>195</td>\n",
       "      <td>1.246435</td>\n",
       "      <td>-0.220812</td>\n",
       "      <td>2.132352</td>\n",
       "      <td>-1.391638</td>\n",
       "      <td>-2.855950</td>\n",
       "      <td>-1.420941</td>\n",
       "    </tr>\n",
       "    <tr>\n",
       "      <th>19</th>\n",
       "      <td>20</td>\n",
       "      <td>-1.711384</td>\n",
       "      <td>-1.424814</td>\n",
       "      <td>-0.841279</td>\n",
       "      <td>0.987694</td>\n",
       "      <td>-0.105692</td>\n",
       "      <td>0.499647</td>\n",
       "    </tr>\n",
       "    <tr>\n",
       "      <th>176</th>\n",
       "      <td>177</td>\n",
       "      <td>-1.121951</td>\n",
       "      <td>-0.335061</td>\n",
       "      <td>2.768473</td>\n",
       "      <td>-1.391638</td>\n",
       "      <td>-1.642577</td>\n",
       "      <td>-2.498010</td>\n",
       "    </tr>\n",
       "    <tr>\n",
       "      <th>367</th>\n",
       "      <td>368</td>\n",
       "      <td>-1.121951</td>\n",
       "      <td>-0.238389</td>\n",
       "      <td>0.590546</td>\n",
       "      <td>-0.711829</td>\n",
       "      <td>-0.354175</td>\n",
       "      <td>-1.177606</td>\n",
       "    </tr>\n",
       "  </tbody>\n",
       "</table>\n",
       "</div>"
      ],
      "text/plain": [
       "      No  X1 transaction date  X2 house age  \\\n",
       "7      8             0.951718      0.227393   \n",
       "194  195             1.246435     -0.220812   \n",
       "19    20            -1.711384     -1.424814   \n",
       "176  177            -1.121951     -0.335061   \n",
       "367  368            -1.121951     -0.238389   \n",
       "\n",
       "     X3 distance to the nearest MRT station  X4 number of convenience stores  \\\n",
       "7                                 -0.631678                         0.647789   \n",
       "194                                2.132352                        -1.391638   \n",
       "19                                -0.841279                         0.987694   \n",
       "176                                2.768473                        -1.391638   \n",
       "367                                0.590546                        -0.711829   \n",
       "\n",
       "     X5 latitude  X6 longitude  \n",
       "7       0.918898      0.581846  \n",
       "194    -2.855950     -1.420941  \n",
       "19     -0.105692      0.499647  \n",
       "176    -1.642577     -2.498010  \n",
       "367    -0.354175     -1.177606  "
      ]
     },
     "execution_count": 25,
     "metadata": {},
     "output_type": "execute_result"
    }
   ],
   "source": [
    "xtrain.head()"
   ]
  },
  {
   "cell_type": "code",
   "execution_count": 26,
   "id": "14a5714f",
   "metadata": {},
   "outputs": [
    {
     "data": {
      "text/plain": [
       "7      46.7\n",
       "194    29.3\n",
       "19     47.7\n",
       "176    19.2\n",
       "367    20.9\n",
       "Name: Y house price of unit area, dtype: float64"
      ]
     },
     "execution_count": 26,
     "metadata": {},
     "output_type": "execute_result"
    }
   ],
   "source": [
    "ytrain.head()"
   ]
  },
  {
   "cell_type": "markdown",
   "id": "c20b8cff",
   "metadata": {},
   "source": [
    "# Part 2: Linear Regression "
   ]
  },
  {
   "cell_type": "code",
   "execution_count": 27,
   "id": "06bb4769",
   "metadata": {},
   "outputs": [],
   "source": [
    "from sklearn.linear_model import LinearRegression\n",
    "reg = LinearRegression()"
   ]
  },
  {
   "cell_type": "code",
   "execution_count": 28,
   "id": "aa877a9a",
   "metadata": {},
   "outputs": [
    {
     "data": {
      "text/plain": [
       "LinearRegression()"
      ]
     },
     "execution_count": 28,
     "metadata": {},
     "output_type": "execute_result"
    }
   ],
   "source": [
    "reg.fit(xtrain, ytrain)"
   ]
  },
  {
   "cell_type": "code",
   "execution_count": 29,
   "id": "811579f1",
   "metadata": {},
   "outputs": [
    {
     "data": {
      "text/plain": [
       "array([-6.25951905e-03,  1.65027008e+00, -2.72538900e+00, -6.59224288e+00,\n",
       "        3.13303612e+00,  2.92685582e+00, -8.34931028e-01])"
      ]
     },
     "execution_count": 29,
     "metadata": {},
     "output_type": "execute_result"
    }
   ],
   "source": [
    "reg.coef_"
   ]
  },
  {
   "cell_type": "code",
   "execution_count": 30,
   "id": "057a960b",
   "metadata": {},
   "outputs": [
    {
     "data": {
      "text/plain": [
       "39.30620705795485"
      ]
     },
     "execution_count": 30,
     "metadata": {},
     "output_type": "execute_result"
    }
   ],
   "source": [
    "reg.intercept_"
   ]
  },
  {
   "cell_type": "code",
   "execution_count": 31,
   "id": "2f388ed4",
   "metadata": {},
   "outputs": [
    {
     "name": "stderr",
     "output_type": "stream",
     "text": [
      "C:\\ProgramData\\Anaconda3\\lib\\site-packages\\sklearn\\base.py:450: UserWarning: X does not have valid feature names, but LinearRegression was fitted with feature names\n",
      "  warnings.warn(\n"
     ]
    },
    {
     "data": {
      "text/plain": [
       "array([-591.54924937])"
      ]
     },
     "execution_count": 31,
     "metadata": {},
     "output_type": "execute_result"
    }
   ],
   "source": [
    "reg.predict([[0,0,20,85,5,12,80]])"
   ]
  },
  {
   "cell_type": "code",
   "execution_count": 32,
   "id": "607a4b52",
   "metadata": {},
   "outputs": [],
   "source": [
    "from sklearn.metrics import mean_squared_error, mean_absolute_error, r2_score"
   ]
  },
  {
   "cell_type": "code",
   "execution_count": 33,
   "id": "1189e659",
   "metadata": {},
   "outputs": [],
   "source": [
    "y_train_pred = reg.predict(xtrain)\n",
    "y_test_pred = reg.predict(xtest)"
   ]
  },
  {
   "cell_type": "code",
   "execution_count": 34,
   "id": "93ae1d35",
   "metadata": {},
   "outputs": [
    {
     "data": {
      "text/plain": [
       "array([46.63500169, 40.24113343, 43.27451225, 39.42392538, 26.41737818,\n",
       "       46.7590668 , 44.373057  , 47.01617107, 24.73302641, 55.20723326,\n",
       "       35.24453596, 36.78602271, 36.4558036 , 24.60160749, 36.61256768,\n",
       "       33.53862681, 45.03590136, 44.58139926, 28.94545078, 44.76056711,\n",
       "        0.46682603, 36.54865933, 47.03676744, 46.0376176 ,  9.80819889,\n",
       "       38.86395109, 11.68678066, 43.58101045, 36.53440728, 38.39504924,\n",
       "       14.01814402, 40.52535499, 36.19016624, 27.92929379, 47.6811978 ,\n",
       "       31.72262215, 50.12022329, 11.90992025, 49.7289872 , 39.96859915,\n",
       "       40.30835716, 40.32736106, 48.95145733, 37.02885946, 39.3123335 ,\n",
       "       47.1579367 , 43.1837143 , 19.4356479 , 46.5513857 , 45.01065879,\n",
       "       47.95387969, 47.84393899, 42.13580911, 42.63926258, 36.87174334,\n",
       "       14.96775073, 38.47796057, 34.52383209, 29.14602677, 47.16202053,\n",
       "       31.67605557, 34.02453236, 14.45447017,  8.47825601,  8.65310317,\n",
       "       33.98533086, 28.95263146, 47.78257453, 34.71098129, 31.2232578 ,\n",
       "       46.53508355, 39.99235066, 46.51439683, 45.67303484, 36.8520268 ,\n",
       "       39.02877384, 38.32789967, 36.5252545 , 41.87452293, 33.40281218,\n",
       "       42.84785841, 43.34927785, 27.57622957, 39.65641739, 33.68970862,\n",
       "       31.83691367, 41.01292147, 45.10418987, 34.01545545, 40.13482404,\n",
       "       11.44439999, 40.28424689, 41.24264458, 49.86614525, 47.8863636 ,\n",
       "       40.16136477, 35.18698551, 44.25200054, 31.03996771, 48.3481719 ,\n",
       "       29.34500311, 33.63381363, 44.02445164, 30.42773258, 48.10312974,\n",
       "       47.95095215, 29.13773787, 25.16670746, 41.5233393 , 38.77847766,\n",
       "       37.97612888, 40.79704031, 48.560025  , 46.36555328, 17.30414638,\n",
       "       40.19238039, 45.00476671, 44.26811704, 31.16670717, 32.61196958,\n",
       "       45.85256705, 14.92000031, 51.57449797, 47.50814917, 37.16220654])"
      ]
     },
     "execution_count": 34,
     "metadata": {},
     "output_type": "execute_result"
    }
   ],
   "source": [
    "y_train_pred\n",
    "y_test_pred"
   ]
  },
  {
   "cell_type": "code",
   "execution_count": 35,
   "id": "65c3a413",
   "metadata": {},
   "outputs": [],
   "source": [
    "mse_train = mean_squared_error(ytrain, y_train_pred)\n",
    "r2_train = r2_score(ytrain, y_train_pred)"
   ]
  },
  {
   "cell_type": "code",
   "execution_count": 36,
   "id": "26b9b869",
   "metadata": {},
   "outputs": [
    {
     "data": {
      "text/plain": [
       "78.74157321400966"
      ]
     },
     "execution_count": 36,
     "metadata": {},
     "output_type": "execute_result"
    }
   ],
   "source": [
    "mse_train"
   ]
  },
  {
   "cell_type": "code",
   "execution_count": 37,
   "id": "7fa21bb5",
   "metadata": {},
   "outputs": [
    {
     "data": {
      "text/plain": [
       "0.5888965057262947"
      ]
     },
     "execution_count": 37,
     "metadata": {},
     "output_type": "execute_result"
    }
   ],
   "source": [
    "r2_train"
   ]
  },
  {
   "cell_type": "code",
   "execution_count": 38,
   "id": "843e6ee4",
   "metadata": {},
   "outputs": [],
   "source": [
    "mse_test = mean_squared_error(ytest, y_test_pred)\n",
    "r2_test = r2_score(ytest, y_test_pred)"
   ]
  },
  {
   "cell_type": "code",
   "execution_count": 39,
   "id": "7147a487",
   "metadata": {},
   "outputs": [
    {
     "data": {
      "text/plain": [
       "74.70865668114963"
      ]
     },
     "execution_count": 39,
     "metadata": {},
     "output_type": "execute_result"
    }
   ],
   "source": [
    "mse_test"
   ]
  },
  {
   "cell_type": "code",
   "execution_count": 40,
   "id": "8fe231bb",
   "metadata": {},
   "outputs": [
    {
     "data": {
      "text/plain": [
       "0.5532450005316856"
      ]
     },
     "execution_count": 40,
     "metadata": {},
     "output_type": "execute_result"
    }
   ],
   "source": [
    "r2_test"
   ]
  },
  {
   "cell_type": "markdown",
   "id": "361a3f4c",
   "metadata": {},
   "source": [
    "# Evaluate the model performance "
   ]
  },
  {
   "cell_type": "code",
   "execution_count": 41,
   "id": "f08bf954",
   "metadata": {},
   "outputs": [],
   "source": [
    "from sklearn.metrics import mean_absolute_error, mean_squared_error, confusion_matrix, r2_score"
   ]
  },
  {
   "cell_type": "code",
   "execution_count": 42,
   "id": "d6321dc0",
   "metadata": {},
   "outputs": [],
   "source": [
    "def eval(model, xtrain, ytrain, xtest, ytest):\n",
    "    print(\"The training score is,\", model.score(xtrain, ytrain),end='\\n')\n",
    "    print(\"The testing score is,\", model.score(xtest, ytest))"
   ]
  },
  {
   "cell_type": "code",
   "execution_count": 43,
   "id": "5e1b6205",
   "metadata": {},
   "outputs": [],
   "source": [
    "def metric_score(ytest, ypred):\n",
    "    print(\"The mean absolute error is: \", mean_absolute_error(ytest, ypred))\n",
    "    print(\"The mean squared error is: \", mean_squared_error(ytest, ypred))\n",
    "    print(\"The R2 score is: \", r2_score(ytest, ypred)) "
   ]
  },
  {
   "cell_type": "code",
   "execution_count": 44,
   "id": "6ed47f65",
   "metadata": {},
   "outputs": [
    {
     "name": "stdout",
     "output_type": "stream",
     "text": [
      "The training score is, 0.5888965057262947\n",
      "The testing score is, 0.5532450005316856\n"
     ]
    }
   ],
   "source": [
    "eval(reg, xtrain, ytrain, xtest, ytest)"
   ]
  },
  {
   "cell_type": "code",
   "execution_count": 45,
   "id": "e03a0202",
   "metadata": {},
   "outputs": [],
   "source": [
    "ypred = reg.predict(xtest)"
   ]
  },
  {
   "cell_type": "code",
   "execution_count": 46,
   "id": "fbd356ca",
   "metadata": {},
   "outputs": [
    {
     "name": "stdout",
     "output_type": "stream",
     "text": [
      "The mean absolute error is:  6.266422833091745\n",
      "The mean squared error is:  74.70865668114963\n",
      "The R2 score is:  0.5532450005316856\n"
     ]
    }
   ],
   "source": [
    "metric_score(ytest, ypred)"
   ]
  },
  {
   "cell_type": "code",
   "execution_count": 47,
   "id": "d20d355e",
   "metadata": {},
   "outputs": [],
   "source": [
    "from sklearn.metrics import mean_squared_error, mean_absolute_error, r2_score\n",
    "y_train_pred = reg.predict(xtrain)\n",
    "y_test_pred = reg.predict(xtest)\n",
    "mse_train = mean_squared_error(ytrain, y_train_pred)\n",
    "r2_train = r2_score(ytrain, y_train_pred)\n",
    "mse_test = mean_squared_error(ytest, y_test_pred)\n",
    "r2_test = r2_score(ytest, y_test_pred)\n"
   ]
  },
  {
   "cell_type": "code",
   "execution_count": 48,
   "id": "f29c5df6",
   "metadata": {},
   "outputs": [
    {
     "name": "stdout",
     "output_type": "stream",
     "text": [
      "The training score is, 0.5888965057262947\n",
      "The testing score is, 0.5532450005316856\n"
     ]
    }
   ],
   "source": [
    "eval(reg, xtrain, ytrain, xtest, ytest)"
   ]
  },
  {
   "cell_type": "code",
   "execution_count": 49,
   "id": "869ac08a",
   "metadata": {},
   "outputs": [],
   "source": [
    " ypred = reg.predict(xtest)"
   ]
  },
  {
   "cell_type": "code",
   "execution_count": 50,
   "id": "ba08dc5c",
   "metadata": {},
   "outputs": [
    {
     "name": "stdout",
     "output_type": "stream",
     "text": [
      "The mean absolute error is:  6.266422833091745\n",
      "The mean squared error is:  74.70865668114963\n",
      "The R2 score is:  0.5532450005316856\n"
     ]
    }
   ],
   "source": [
    "metric_score(ytest, ypred)"
   ]
  },
  {
   "cell_type": "markdown",
   "id": "329c0e02",
   "metadata": {},
   "source": [
    "# Part 3: Feature Scaling Comparison"
   ]
  },
  {
   "cell_type": "code",
   "execution_count": 51,
   "id": "592ec988",
   "metadata": {},
   "outputs": [
    {
     "data": {
      "text/html": [
       "<div>\n",
       "<style scoped>\n",
       "    .dataframe tbody tr th:only-of-type {\n",
       "        vertical-align: middle;\n",
       "    }\n",
       "\n",
       "    .dataframe tbody tr th {\n",
       "        vertical-align: top;\n",
       "    }\n",
       "\n",
       "    .dataframe thead th {\n",
       "        text-align: right;\n",
       "    }\n",
       "</style>\n",
       "<table border=\"1\" class=\"dataframe\">\n",
       "  <thead>\n",
       "    <tr style=\"text-align: right;\">\n",
       "      <th></th>\n",
       "      <th>No</th>\n",
       "      <th>X1 transaction date</th>\n",
       "      <th>X2 house age</th>\n",
       "      <th>X3 distance to the nearest MRT station</th>\n",
       "      <th>X4 number of convenience stores</th>\n",
       "      <th>X5 latitude</th>\n",
       "      <th>X6 longitude</th>\n",
       "      <th>Y house price of unit area</th>\n",
       "    </tr>\n",
       "  </thead>\n",
       "  <tbody>\n",
       "    <tr>\n",
       "      <th>0</th>\n",
       "      <td>1</td>\n",
       "      <td>2012.917</td>\n",
       "      <td>32.0</td>\n",
       "      <td>84.87882</td>\n",
       "      <td>10</td>\n",
       "      <td>24.98298</td>\n",
       "      <td>121.54024</td>\n",
       "      <td>37.9</td>\n",
       "    </tr>\n",
       "    <tr>\n",
       "      <th>1</th>\n",
       "      <td>2</td>\n",
       "      <td>2012.917</td>\n",
       "      <td>19.5</td>\n",
       "      <td>306.59470</td>\n",
       "      <td>9</td>\n",
       "      <td>24.98034</td>\n",
       "      <td>121.53951</td>\n",
       "      <td>42.2</td>\n",
       "    </tr>\n",
       "    <tr>\n",
       "      <th>2</th>\n",
       "      <td>3</td>\n",
       "      <td>2013.583</td>\n",
       "      <td>13.3</td>\n",
       "      <td>561.98450</td>\n",
       "      <td>5</td>\n",
       "      <td>24.98746</td>\n",
       "      <td>121.54391</td>\n",
       "      <td>47.3</td>\n",
       "    </tr>\n",
       "    <tr>\n",
       "      <th>3</th>\n",
       "      <td>4</td>\n",
       "      <td>2013.500</td>\n",
       "      <td>13.3</td>\n",
       "      <td>561.98450</td>\n",
       "      <td>5</td>\n",
       "      <td>24.98746</td>\n",
       "      <td>121.54391</td>\n",
       "      <td>54.8</td>\n",
       "    </tr>\n",
       "    <tr>\n",
       "      <th>4</th>\n",
       "      <td>5</td>\n",
       "      <td>2012.833</td>\n",
       "      <td>5.0</td>\n",
       "      <td>390.56840</td>\n",
       "      <td>5</td>\n",
       "      <td>24.97937</td>\n",
       "      <td>121.54245</td>\n",
       "      <td>43.1</td>\n",
       "    </tr>\n",
       "    <tr>\n",
       "      <th>...</th>\n",
       "      <td>...</td>\n",
       "      <td>...</td>\n",
       "      <td>...</td>\n",
       "      <td>...</td>\n",
       "      <td>...</td>\n",
       "      <td>...</td>\n",
       "      <td>...</td>\n",
       "      <td>...</td>\n",
       "    </tr>\n",
       "    <tr>\n",
       "      <th>409</th>\n",
       "      <td>410</td>\n",
       "      <td>2013.000</td>\n",
       "      <td>13.7</td>\n",
       "      <td>4082.01500</td>\n",
       "      <td>0</td>\n",
       "      <td>24.94155</td>\n",
       "      <td>121.50381</td>\n",
       "      <td>15.4</td>\n",
       "    </tr>\n",
       "    <tr>\n",
       "      <th>410</th>\n",
       "      <td>411</td>\n",
       "      <td>2012.667</td>\n",
       "      <td>5.6</td>\n",
       "      <td>90.45606</td>\n",
       "      <td>9</td>\n",
       "      <td>24.97433</td>\n",
       "      <td>121.54310</td>\n",
       "      <td>50.0</td>\n",
       "    </tr>\n",
       "    <tr>\n",
       "      <th>411</th>\n",
       "      <td>412</td>\n",
       "      <td>2013.250</td>\n",
       "      <td>18.8</td>\n",
       "      <td>390.96960</td>\n",
       "      <td>7</td>\n",
       "      <td>24.97923</td>\n",
       "      <td>121.53986</td>\n",
       "      <td>40.6</td>\n",
       "    </tr>\n",
       "    <tr>\n",
       "      <th>412</th>\n",
       "      <td>413</td>\n",
       "      <td>2013.000</td>\n",
       "      <td>8.1</td>\n",
       "      <td>104.81010</td>\n",
       "      <td>5</td>\n",
       "      <td>24.96674</td>\n",
       "      <td>121.54067</td>\n",
       "      <td>52.5</td>\n",
       "    </tr>\n",
       "    <tr>\n",
       "      <th>413</th>\n",
       "      <td>414</td>\n",
       "      <td>2013.500</td>\n",
       "      <td>6.5</td>\n",
       "      <td>90.45606</td>\n",
       "      <td>9</td>\n",
       "      <td>24.97433</td>\n",
       "      <td>121.54310</td>\n",
       "      <td>63.9</td>\n",
       "    </tr>\n",
       "  </tbody>\n",
       "</table>\n",
       "<p>414 rows × 8 columns</p>\n",
       "</div>"
      ],
      "text/plain": [
       "      No  X1 transaction date  X2 house age  \\\n",
       "0      1             2012.917          32.0   \n",
       "1      2             2012.917          19.5   \n",
       "2      3             2013.583          13.3   \n",
       "3      4             2013.500          13.3   \n",
       "4      5             2012.833           5.0   \n",
       "..   ...                  ...           ...   \n",
       "409  410             2013.000          13.7   \n",
       "410  411             2012.667           5.6   \n",
       "411  412             2013.250          18.8   \n",
       "412  413             2013.000           8.1   \n",
       "413  414             2013.500           6.5   \n",
       "\n",
       "     X3 distance to the nearest MRT station  X4 number of convenience stores  \\\n",
       "0                                  84.87882                               10   \n",
       "1                                 306.59470                                9   \n",
       "2                                 561.98450                                5   \n",
       "3                                 561.98450                                5   \n",
       "4                                 390.56840                                5   \n",
       "..                                      ...                              ...   \n",
       "409                              4082.01500                                0   \n",
       "410                                90.45606                                9   \n",
       "411                               390.96960                                7   \n",
       "412                               104.81010                                5   \n",
       "413                                90.45606                                9   \n",
       "\n",
       "     X5 latitude  X6 longitude  Y house price of unit area  \n",
       "0       24.98298     121.54024                        37.9  \n",
       "1       24.98034     121.53951                        42.2  \n",
       "2       24.98746     121.54391                        47.3  \n",
       "3       24.98746     121.54391                        54.8  \n",
       "4       24.97937     121.54245                        43.1  \n",
       "..           ...           ...                         ...  \n",
       "409     24.94155     121.50381                        15.4  \n",
       "410     24.97433     121.54310                        50.0  \n",
       "411     24.97923     121.53986                        40.6  \n",
       "412     24.96674     121.54067                        52.5  \n",
       "413     24.97433     121.54310                        63.9  \n",
       "\n",
       "[414 rows x 8 columns]"
      ]
     },
     "execution_count": 51,
     "metadata": {},
     "output_type": "execute_result"
    }
   ],
   "source": [
    "df"
   ]
  },
  {
   "cell_type": "code",
   "execution_count": 52,
   "id": "feec65fe",
   "metadata": {},
   "outputs": [],
   "source": [
    "x1 = df.drop('Y house price of unit area', axis=1)"
   ]
  },
  {
   "cell_type": "code",
   "execution_count": 53,
   "id": "5e0e7aa8",
   "metadata": {},
   "outputs": [
    {
     "data": {
      "text/html": [
       "<div>\n",
       "<style scoped>\n",
       "    .dataframe tbody tr th:only-of-type {\n",
       "        vertical-align: middle;\n",
       "    }\n",
       "\n",
       "    .dataframe tbody tr th {\n",
       "        vertical-align: top;\n",
       "    }\n",
       "\n",
       "    .dataframe thead th {\n",
       "        text-align: right;\n",
       "    }\n",
       "</style>\n",
       "<table border=\"1\" class=\"dataframe\">\n",
       "  <thead>\n",
       "    <tr style=\"text-align: right;\">\n",
       "      <th></th>\n",
       "      <th>No</th>\n",
       "      <th>X1 transaction date</th>\n",
       "      <th>X2 house age</th>\n",
       "      <th>X3 distance to the nearest MRT station</th>\n",
       "      <th>X4 number of convenience stores</th>\n",
       "      <th>X5 latitude</th>\n",
       "      <th>X6 longitude</th>\n",
       "    </tr>\n",
       "  </thead>\n",
       "  <tbody>\n",
       "    <tr>\n",
       "      <th>0</th>\n",
       "      <td>1</td>\n",
       "      <td>2012.917</td>\n",
       "      <td>32.0</td>\n",
       "      <td>84.87882</td>\n",
       "      <td>10</td>\n",
       "      <td>24.98298</td>\n",
       "      <td>121.54024</td>\n",
       "    </tr>\n",
       "    <tr>\n",
       "      <th>1</th>\n",
       "      <td>2</td>\n",
       "      <td>2012.917</td>\n",
       "      <td>19.5</td>\n",
       "      <td>306.59470</td>\n",
       "      <td>9</td>\n",
       "      <td>24.98034</td>\n",
       "      <td>121.53951</td>\n",
       "    </tr>\n",
       "    <tr>\n",
       "      <th>2</th>\n",
       "      <td>3</td>\n",
       "      <td>2013.583</td>\n",
       "      <td>13.3</td>\n",
       "      <td>561.98450</td>\n",
       "      <td>5</td>\n",
       "      <td>24.98746</td>\n",
       "      <td>121.54391</td>\n",
       "    </tr>\n",
       "    <tr>\n",
       "      <th>3</th>\n",
       "      <td>4</td>\n",
       "      <td>2013.500</td>\n",
       "      <td>13.3</td>\n",
       "      <td>561.98450</td>\n",
       "      <td>5</td>\n",
       "      <td>24.98746</td>\n",
       "      <td>121.54391</td>\n",
       "    </tr>\n",
       "    <tr>\n",
       "      <th>4</th>\n",
       "      <td>5</td>\n",
       "      <td>2012.833</td>\n",
       "      <td>5.0</td>\n",
       "      <td>390.56840</td>\n",
       "      <td>5</td>\n",
       "      <td>24.97937</td>\n",
       "      <td>121.54245</td>\n",
       "    </tr>\n",
       "  </tbody>\n",
       "</table>\n",
       "</div>"
      ],
      "text/plain": [
       "   No  X1 transaction date  X2 house age  \\\n",
       "0   1             2012.917          32.0   \n",
       "1   2             2012.917          19.5   \n",
       "2   3             2013.583          13.3   \n",
       "3   4             2013.500          13.3   \n",
       "4   5             2012.833           5.0   \n",
       "\n",
       "   X3 distance to the nearest MRT station  X4 number of convenience stores  \\\n",
       "0                                84.87882                               10   \n",
       "1                               306.59470                                9   \n",
       "2                               561.98450                                5   \n",
       "3                               561.98450                                5   \n",
       "4                               390.56840                                5   \n",
       "\n",
       "   X5 latitude  X6 longitude  \n",
       "0     24.98298     121.54024  \n",
       "1     24.98034     121.53951  \n",
       "2     24.98746     121.54391  \n",
       "3     24.98746     121.54391  \n",
       "4     24.97937     121.54245  "
      ]
     },
     "execution_count": 53,
     "metadata": {},
     "output_type": "execute_result"
    }
   ],
   "source": [
    "x1.head()"
   ]
  },
  {
   "cell_type": "code",
   "execution_count": 54,
   "id": "4ca20b13",
   "metadata": {},
   "outputs": [
    {
     "data": {
      "text/plain": [
       "0    37.9\n",
       "1    42.2\n",
       "2    47.3\n",
       "3    54.8\n",
       "4    43.1\n",
       "Name: Y house price of unit area, dtype: float64"
      ]
     },
     "execution_count": 54,
     "metadata": {},
     "output_type": "execute_result"
    }
   ],
   "source": [
    "y1 = df['Y house price of unit area']\n",
    "y1.head()"
   ]
  },
  {
   "cell_type": "markdown",
   "id": "4930fc5d",
   "metadata": {},
   "source": [
    "# train test split"
   ]
  },
  {
   "cell_type": "code",
   "execution_count": 55,
   "id": "6600782c",
   "metadata": {},
   "outputs": [],
   "source": [
    "from sklearn.model_selection import train_test_split\n",
    "train1, test1=train_test_split(df, test_size=.30)"
   ]
  },
  {
   "cell_type": "code",
   "execution_count": 56,
   "id": "900697ac",
   "metadata": {},
   "outputs": [],
   "source": [
    "xtrain1, xtest1, ytrain1, ytest1 = train_test_split(x1, y1, test_size=.30, random_state=42)"
   ]
  },
  {
   "cell_type": "code",
   "execution_count": 57,
   "id": "f5669fca",
   "metadata": {},
   "outputs": [
    {
     "data": {
      "text/html": [
       "<div>\n",
       "<style scoped>\n",
       "    .dataframe tbody tr th:only-of-type {\n",
       "        vertical-align: middle;\n",
       "    }\n",
       "\n",
       "    .dataframe tbody tr th {\n",
       "        vertical-align: top;\n",
       "    }\n",
       "\n",
       "    .dataframe thead th {\n",
       "        text-align: right;\n",
       "    }\n",
       "</style>\n",
       "<table border=\"1\" class=\"dataframe\">\n",
       "  <thead>\n",
       "    <tr style=\"text-align: right;\">\n",
       "      <th></th>\n",
       "      <th>No</th>\n",
       "      <th>X1 transaction date</th>\n",
       "      <th>X2 house age</th>\n",
       "      <th>X3 distance to the nearest MRT station</th>\n",
       "      <th>X4 number of convenience stores</th>\n",
       "      <th>X5 latitude</th>\n",
       "      <th>X6 longitude</th>\n",
       "    </tr>\n",
       "  </thead>\n",
       "  <tbody>\n",
       "    <tr>\n",
       "      <th>7</th>\n",
       "      <td>8</td>\n",
       "      <td>2013.417</td>\n",
       "      <td>20.3</td>\n",
       "      <td>287.60250</td>\n",
       "      <td>6</td>\n",
       "      <td>24.98042</td>\n",
       "      <td>121.54228</td>\n",
       "    </tr>\n",
       "    <tr>\n",
       "      <th>194</th>\n",
       "      <td>195</td>\n",
       "      <td>2013.500</td>\n",
       "      <td>15.2</td>\n",
       "      <td>3771.89500</td>\n",
       "      <td>0</td>\n",
       "      <td>24.93363</td>\n",
       "      <td>121.51158</td>\n",
       "    </tr>\n",
       "    <tr>\n",
       "      <th>19</th>\n",
       "      <td>20</td>\n",
       "      <td>2012.667</td>\n",
       "      <td>1.5</td>\n",
       "      <td>23.38284</td>\n",
       "      <td>7</td>\n",
       "      <td>24.96772</td>\n",
       "      <td>121.54102</td>\n",
       "    </tr>\n",
       "    <tr>\n",
       "      <th>176</th>\n",
       "      <td>177</td>\n",
       "      <td>2012.833</td>\n",
       "      <td>13.9</td>\n",
       "      <td>4573.77900</td>\n",
       "      <td>0</td>\n",
       "      <td>24.94867</td>\n",
       "      <td>121.49507</td>\n",
       "    </tr>\n",
       "    <tr>\n",
       "      <th>367</th>\n",
       "      <td>368</td>\n",
       "      <td>2012.833</td>\n",
       "      <td>15.0</td>\n",
       "      <td>1828.31900</td>\n",
       "      <td>2</td>\n",
       "      <td>24.96464</td>\n",
       "      <td>121.51531</td>\n",
       "    </tr>\n",
       "  </tbody>\n",
       "</table>\n",
       "</div>"
      ],
      "text/plain": [
       "      No  X1 transaction date  X2 house age  \\\n",
       "7      8             2013.417          20.3   \n",
       "194  195             2013.500          15.2   \n",
       "19    20             2012.667           1.5   \n",
       "176  177             2012.833          13.9   \n",
       "367  368             2012.833          15.0   \n",
       "\n",
       "     X3 distance to the nearest MRT station  X4 number of convenience stores  \\\n",
       "7                                 287.60250                                6   \n",
       "194                              3771.89500                                0   \n",
       "19                                 23.38284                                7   \n",
       "176                              4573.77900                                0   \n",
       "367                              1828.31900                                2   \n",
       "\n",
       "     X5 latitude  X6 longitude  \n",
       "7       24.98042     121.54228  \n",
       "194     24.93363     121.51158  \n",
       "19      24.96772     121.54102  \n",
       "176     24.94867     121.49507  \n",
       "367     24.96464     121.51531  "
      ]
     },
     "execution_count": 57,
     "metadata": {},
     "output_type": "execute_result"
    }
   ],
   "source": [
    "xtrain1.head()"
   ]
  },
  {
   "cell_type": "code",
   "execution_count": 58,
   "id": "b0cd99a4",
   "metadata": {},
   "outputs": [
    {
     "data": {
      "text/html": [
       "<div>\n",
       "<style scoped>\n",
       "    .dataframe tbody tr th:only-of-type {\n",
       "        vertical-align: middle;\n",
       "    }\n",
       "\n",
       "    .dataframe tbody tr th {\n",
       "        vertical-align: top;\n",
       "    }\n",
       "\n",
       "    .dataframe thead th {\n",
       "        text-align: right;\n",
       "    }\n",
       "</style>\n",
       "<table border=\"1\" class=\"dataframe\">\n",
       "  <thead>\n",
       "    <tr style=\"text-align: right;\">\n",
       "      <th></th>\n",
       "      <th>No</th>\n",
       "      <th>X1 transaction date</th>\n",
       "      <th>X2 house age</th>\n",
       "      <th>X3 distance to the nearest MRT station</th>\n",
       "      <th>X4 number of convenience stores</th>\n",
       "      <th>X5 latitude</th>\n",
       "      <th>X6 longitude</th>\n",
       "    </tr>\n",
       "  </thead>\n",
       "  <tbody>\n",
       "    <tr>\n",
       "      <th>358</th>\n",
       "      <td>359</td>\n",
       "      <td>2013.167</td>\n",
       "      <td>1.1</td>\n",
       "      <td>193.5845</td>\n",
       "      <td>6</td>\n",
       "      <td>24.96571</td>\n",
       "      <td>121.54089</td>\n",
       "    </tr>\n",
       "    <tr>\n",
       "      <th>350</th>\n",
       "      <td>351</td>\n",
       "      <td>2013.000</td>\n",
       "      <td>13.2</td>\n",
       "      <td>492.2313</td>\n",
       "      <td>5</td>\n",
       "      <td>24.96515</td>\n",
       "      <td>121.53737</td>\n",
       "    </tr>\n",
       "    <tr>\n",
       "      <th>373</th>\n",
       "      <td>374</td>\n",
       "      <td>2013.083</td>\n",
       "      <td>0.0</td>\n",
       "      <td>274.0144</td>\n",
       "      <td>1</td>\n",
       "      <td>24.97480</td>\n",
       "      <td>121.53059</td>\n",
       "    </tr>\n",
       "    <tr>\n",
       "      <th>399</th>\n",
       "      <td>400</td>\n",
       "      <td>2012.917</td>\n",
       "      <td>12.7</td>\n",
       "      <td>170.1289</td>\n",
       "      <td>1</td>\n",
       "      <td>24.97371</td>\n",
       "      <td>121.52984</td>\n",
       "    </tr>\n",
       "    <tr>\n",
       "      <th>369</th>\n",
       "      <td>370</td>\n",
       "      <td>2012.667</td>\n",
       "      <td>20.2</td>\n",
       "      <td>2185.1280</td>\n",
       "      <td>3</td>\n",
       "      <td>24.96322</td>\n",
       "      <td>121.51237</td>\n",
       "    </tr>\n",
       "  </tbody>\n",
       "</table>\n",
       "</div>"
      ],
      "text/plain": [
       "      No  X1 transaction date  X2 house age  \\\n",
       "358  359             2013.167           1.1   \n",
       "350  351             2013.000          13.2   \n",
       "373  374             2013.083           0.0   \n",
       "399  400             2012.917          12.7   \n",
       "369  370             2012.667          20.2   \n",
       "\n",
       "     X3 distance to the nearest MRT station  X4 number of convenience stores  \\\n",
       "358                                193.5845                                6   \n",
       "350                                492.2313                                5   \n",
       "373                                274.0144                                1   \n",
       "399                                170.1289                                1   \n",
       "369                               2185.1280                                3   \n",
       "\n",
       "     X5 latitude  X6 longitude  \n",
       "358     24.96571     121.54089  \n",
       "350     24.96515     121.53737  \n",
       "373     24.97480     121.53059  \n",
       "399     24.97371     121.52984  \n",
       "369     24.96322     121.51237  "
      ]
     },
     "execution_count": 58,
     "metadata": {},
     "output_type": "execute_result"
    }
   ],
   "source": [
    "xtest1.head()"
   ]
  },
  {
   "cell_type": "code",
   "execution_count": 59,
   "id": "d41ea084",
   "metadata": {},
   "outputs": [
    {
     "data": {
      "text/plain": [
       "7      46.7\n",
       "194    29.3\n",
       "19     47.7\n",
       "176    19.2\n",
       "367    20.9\n",
       "Name: Y house price of unit area, dtype: float64"
      ]
     },
     "execution_count": 59,
     "metadata": {},
     "output_type": "execute_result"
    }
   ],
   "source": [
    "ytrain1.head()"
   ]
  },
  {
   "cell_type": "code",
   "execution_count": 60,
   "id": "34738477",
   "metadata": {},
   "outputs": [
    {
     "data": {
      "text/plain": [
       "358    45.1\n",
       "350    42.3\n",
       "373    52.2\n",
       "399    37.3\n",
       "369    22.8\n",
       "Name: Y house price of unit area, dtype: float64"
      ]
     },
     "execution_count": 60,
     "metadata": {},
     "output_type": "execute_result"
    }
   ],
   "source": [
    "ytest1.head()"
   ]
  },
  {
   "cell_type": "markdown",
   "id": "8fd3ba20",
   "metadata": {},
   "source": [
    "# LR"
   ]
  },
  {
   "cell_type": "code",
   "execution_count": 61,
   "id": "f01c7d0c",
   "metadata": {},
   "outputs": [],
   "source": [
    "from sklearn.linear_model import LinearRegression\n",
    "regg = LinearRegression()"
   ]
  },
  {
   "cell_type": "code",
   "execution_count": 62,
   "id": "e66e3656",
   "metadata": {},
   "outputs": [
    {
     "data": {
      "text/plain": [
       "LinearRegression()"
      ]
     },
     "execution_count": 62,
     "metadata": {},
     "output_type": "execute_result"
    }
   ],
   "source": [
    "regg.fit(xtrain1, ytrain1)"
   ]
  },
  {
   "cell_type": "code",
   "execution_count": 63,
   "id": "0c5011b7",
   "metadata": {},
   "outputs": [
    {
     "data": {
      "text/plain": [
       "array([-6.25951905e-03,  5.85978276e+00, -2.39516367e-01, -5.22951335e-03,\n",
       "        1.06493330e+00,  2.36128176e+02, -5.44687080e+01])"
      ]
     },
     "execution_count": 63,
     "metadata": {},
     "output_type": "execute_result"
    }
   ],
   "source": [
    "regg.coef_"
   ]
  },
  {
   "cell_type": "code",
   "execution_count": 64,
   "id": "91314df8",
   "metadata": {},
   "outputs": [
    {
     "data": {
      "text/plain": [
       "39.30620705795485"
      ]
     },
     "execution_count": 64,
     "metadata": {},
     "output_type": "execute_result"
    }
   ],
   "source": [
    "reg.intercept_"
   ]
  },
  {
   "cell_type": "code",
   "execution_count": 65,
   "id": "025b3377",
   "metadata": {},
   "outputs": [],
   "source": [
    "y_train_pred = regg.predict(xtrain1)\n",
    "y_test_pred = regg.predict(xtest1)"
   ]
  },
  {
   "cell_type": "code",
   "execution_count": 66,
   "id": "d1e88bbb",
   "metadata": {},
   "outputs": [
    {
     "data": {
      "text/plain": [
       "array([48.6043899 , 15.15475334, 48.15382257, 11.92750391, 29.6242744 ,\n",
       "       34.66414494, 40.59361358, 45.86430697, 39.82410749, 37.4100941 ,\n",
       "       34.23083329, 37.79408197, 26.67832641, 34.57236002, 25.31286829,\n",
       "       37.47044678, 44.02772159, 53.23200497, 36.19512856, 48.51676012,\n",
       "       41.49578565, 42.53044335, 43.63858314, 45.4599633 , 30.32189926,\n",
       "       43.85589781, 31.55789727, 39.6824392 , 41.43803944, 54.56876232,\n",
       "       44.28855433, 33.76063217, 41.75967348, 46.55013489, 42.559891  ,\n",
       "       39.26025614, 40.18498037, 47.76227546, 36.66446632, 45.43887639,\n",
       "       41.54799717, 36.0456262 , 11.22729998, 43.85683628, 39.04139555,\n",
       "       42.76142045, 51.03827808, 46.23953371, 33.31740472, 38.78288944,\n",
       "       27.86599518, 51.82593561, 43.81896054, 16.87452813, 40.25692954,\n",
       "       47.6890032 , 46.42215416, 43.63452077, 28.69617288, 45.73615498,\n",
       "       45.26074703, 54.1196651 , 44.37093871, 43.87034358, 39.03115601,\n",
       "        5.64695705, 44.92602732, 48.71496878, 30.97037855, 29.8323399 ,\n",
       "       41.66973377, 33.99339747, 34.19138175, 48.28991702, 35.26757994,\n",
       "       38.48753375, 14.87692626, 10.46384899, 11.19285727, 49.57617753,\n",
       "       48.09346963, 41.20830299, 47.12075235, 30.41937209, 43.29629812,\n",
       "       45.6339    , 42.29755704, 43.37914387, 39.66007576, 45.90675588,\n",
       "       15.46405892, 43.41511281, 45.43690404, 42.39770935, 37.97656546,\n",
       "       45.0564003 , 44.36183961, 54.1834541 , 47.39582887, 31.23684653,\n",
       "       53.22359661, 34.54142528, 40.48351175, 29.82245597, 23.28736158,\n",
       "       34.7833722 , 12.51987531, 53.95407215, 36.64957516, 33.40091739,\n",
       "       13.83748542, 45.10620249, 29.18707204,  7.9076713 , 41.58199362,\n",
       "       30.40315343, 44.1595434 , 16.10676235, 46.44453287, 43.36473897,\n",
       "       48.01327465, 50.35876673, 11.16057124, 27.14685391, 39.12441431,\n",
       "       26.11137377, 41.257222  , 46.65472887, 42.6354549 , 54.07049704,\n",
       "       42.65067282, 39.13872985, 31.14857463, 49.27110934, 48.3526478 ,\n",
       "       31.45703288, 38.41832097, 48.16448182, 30.96781557, 48.44315113,\n",
       "       46.50323284, 45.46963122, 49.08770728, 33.14020987, 30.32510009,\n",
       "       39.56279584, 41.91839217, 33.61172553, 44.44526744, 12.35344719,\n",
       "       42.31959975, 43.92091959, 44.87813234, 39.30572208, 44.81815533,\n",
       "       23.91298653, 33.24873303, 30.49623329, 45.19812159, 46.23239507,\n",
       "       16.83803964, 40.29539306, 50.66850407, 29.63682483, 46.38527558,\n",
       "       41.28067235, 47.00506663, 37.77320607, 42.71844522, 45.91311923,\n",
       "       12.38476641, 35.37245784, 51.4780372 , 48.06501005, 48.20975132,\n",
       "       38.76329274, 46.57708584, 51.25562971, 39.6971158 , 32.73514954,\n",
       "       36.78105421, 33.52225892, 40.62039957, 43.25401931, 29.94994089,\n",
       "       36.16633032, 37.52925872, 48.01273184, 11.87741386, 31.41101813,\n",
       "       39.49477129, 30.51679951, 30.6726479 , 38.58306732,  9.8922312 ,\n",
       "       33.85738012, 44.583909  , 47.10832075, 27.88861646, 14.24363441,\n",
       "       49.78865452, 41.87175451, 33.48032894, 40.33198903, 51.2935932 ,\n",
       "       54.42804547, 34.88660442, 37.92880343, 30.25598796, 48.14650384,\n",
       "       23.84933143, 45.80211674, 39.77784962, 34.09977289, 31.57444126,\n",
       "       48.18830178, 42.48749093, 41.54308823, 41.64877079, 44.85216503,\n",
       "       25.07540893, 32.09944678, 48.57387136, 42.56262092, 49.13113672,\n",
       "        9.55171453, 45.55184753, 37.51576364, 48.07755584, 35.49735586,\n",
       "       39.60914595, 49.61212195, 37.13395153, 39.47629673, 39.87591043,\n",
       "       47.03672467, 27.77363247, 35.87653098, 37.71197155, 43.02275798,\n",
       "       51.61415383, 33.6295302 , 22.8541617 , 37.41693234, 43.01391415,\n",
       "       44.24851462, 35.59879503, 47.32358239, 46.59985763, 49.58488453,\n",
       "       43.38798824, 51.96491483, 12.61513566, 45.83143044, 19.38760381,\n",
       "       29.59592572, 14.16101317, 13.04584201, 28.14649887, 42.87105781,\n",
       "       49.84082518, 50.58884872, 45.81939489, 47.16295639, 36.74238151,\n",
       "       39.03181484, 50.32333111, 41.61344892, 42.35531478, 40.17471641,\n",
       "       46.89525232, 40.87356589, 45.89298439, 54.96801453, 25.98870344,\n",
       "       54.10088654, 39.04204694, 17.01251209, 24.19541458, 36.1902786 ,\n",
       "       44.50864812, 52.5978079 , 36.31057408, 42.87183032, 36.71280251,\n",
       "       48.57822672, 42.86934691, 45.71833411, 47.74521681])"
      ]
     },
     "execution_count": 66,
     "metadata": {},
     "output_type": "execute_result"
    }
   ],
   "source": [
    "y_train_pred"
   ]
  },
  {
   "cell_type": "code",
   "execution_count": 67,
   "id": "dfbbc94c",
   "metadata": {},
   "outputs": [
    {
     "data": {
      "text/plain": [
       "array([46.63500169, 40.24113343, 43.27451225, 39.42392538, 26.41737818,\n",
       "       46.7590668 , 44.373057  , 47.01617107, 24.73302641, 55.20723326,\n",
       "       35.24453596, 36.78602271, 36.4558036 , 24.60160749, 36.61256768,\n",
       "       33.53862681, 45.03590136, 44.58139926, 28.94545078, 44.76056711,\n",
       "        0.46682603, 36.54865933, 47.03676744, 46.0376176 ,  9.80819889,\n",
       "       38.86395109, 11.68678066, 43.58101045, 36.53440728, 38.39504924,\n",
       "       14.01814402, 40.52535499, 36.19016624, 27.92929379, 47.6811978 ,\n",
       "       31.72262215, 50.12022329, 11.90992025, 49.7289872 , 39.96859915,\n",
       "       40.30835716, 40.32736106, 48.95145733, 37.02885946, 39.3123335 ,\n",
       "       47.1579367 , 43.1837143 , 19.4356479 , 46.5513857 , 45.01065879,\n",
       "       47.95387969, 47.84393899, 42.13580911, 42.63926258, 36.87174334,\n",
       "       14.96775073, 38.47796057, 34.52383209, 29.14602677, 47.16202053,\n",
       "       31.67605557, 34.02453236, 14.45447017,  8.47825601,  8.65310317,\n",
       "       33.98533086, 28.95263146, 47.78257453, 34.71098129, 31.2232578 ,\n",
       "       46.53508355, 39.99235066, 46.51439683, 45.67303484, 36.8520268 ,\n",
       "       39.02877384, 38.32789967, 36.5252545 , 41.87452293, 33.40281218,\n",
       "       42.84785841, 43.34927785, 27.57622957, 39.65641739, 33.68970862,\n",
       "       31.83691367, 41.01292147, 45.10418987, 34.01545545, 40.13482404,\n",
       "       11.44439999, 40.28424689, 41.24264458, 49.86614525, 47.8863636 ,\n",
       "       40.16136477, 35.18698551, 44.25200054, 31.03996771, 48.3481719 ,\n",
       "       29.34500311, 33.63381363, 44.02445164, 30.42773258, 48.10312974,\n",
       "       47.95095215, 29.13773787, 25.16670746, 41.5233393 , 38.77847766,\n",
       "       37.97612888, 40.79704031, 48.560025  , 46.36555328, 17.30414638,\n",
       "       40.19238039, 45.00476671, 44.26811704, 31.16670717, 32.61196958,\n",
       "       45.85256705, 14.92000031, 51.57449797, 47.50814917, 37.16220654])"
      ]
     },
     "execution_count": 67,
     "metadata": {},
     "output_type": "execute_result"
    }
   ],
   "source": [
    "y_test_pred"
   ]
  },
  {
   "cell_type": "markdown",
   "id": "dfbe28af",
   "metadata": {},
   "source": [
    "# model evaluation"
   ]
  },
  {
   "cell_type": "code",
   "execution_count": 68,
   "id": "ec36e2de",
   "metadata": {},
   "outputs": [],
   "source": [
    "mse_train = mean_squared_error(ytrain1, y_train_pred)\n",
    "r2_train = r2_score(ytrain1, y_train_pred)"
   ]
  },
  {
   "cell_type": "code",
   "execution_count": 69,
   "id": "09938a48",
   "metadata": {},
   "outputs": [
    {
     "data": {
      "text/plain": [
       "78.74157321400901"
      ]
     },
     "execution_count": 69,
     "metadata": {},
     "output_type": "execute_result"
    }
   ],
   "source": [
    "mse_train "
   ]
  },
  {
   "cell_type": "code",
   "execution_count": 70,
   "id": "47dd689b",
   "metadata": {},
   "outputs": [
    {
     "data": {
      "text/plain": [
       "0.5888965057262981"
      ]
     },
     "execution_count": 70,
     "metadata": {},
     "output_type": "execute_result"
    }
   ],
   "source": [
    "r2_train"
   ]
  },
  {
   "cell_type": "code",
   "execution_count": 71,
   "id": "8b690370",
   "metadata": {},
   "outputs": [],
   "source": [
    "mse_test = mean_squared_error(ytest1, y_test_pred)\n",
    "r2_test = r2_score(ytest1, y_test_pred)"
   ]
  },
  {
   "cell_type": "code",
   "execution_count": 72,
   "id": "360d6fde",
   "metadata": {},
   "outputs": [
    {
     "data": {
      "text/plain": [
       "74.70865668115137"
      ]
     },
     "execution_count": 72,
     "metadata": {},
     "output_type": "execute_result"
    }
   ],
   "source": [
    "mse_test"
   ]
  },
  {
   "cell_type": "code",
   "execution_count": 73,
   "id": "464c1fbe",
   "metadata": {},
   "outputs": [
    {
     "data": {
      "text/plain": [
       "0.5532450005316751"
      ]
     },
     "execution_count": 73,
     "metadata": {},
     "output_type": "execute_result"
    }
   ],
   "source": [
    "r2_test"
   ]
  },
  {
   "cell_type": "code",
   "execution_count": 74,
   "id": "3e8ad10b",
   "metadata": {},
   "outputs": [],
   "source": [
    "from sklearn.metrics import mean_squared_error, mean_absolute_error, r2_score\n",
    "y_train_pred = regg.predict(xtrain1)\n",
    "y_test_pred = regg.predict(xtest1)\n",
    "mse_train = mean_squared_error(ytrain1, y_train_pred)\n",
    "r2_train = r2_score(ytrain1, y_train_pred)\n",
    "mse_test = mean_squared_error(ytest1, y_test_pred)\n",
    "r2_test = r2_score(ytest1, y_test_pred)"
   ]
  },
  {
   "cell_type": "code",
   "execution_count": 75,
   "id": "ecce85e6",
   "metadata": {},
   "outputs": [
    {
     "name": "stdout",
     "output_type": "stream",
     "text": [
      "The training score is, 0.5888965057262981\n",
      "The testing score is, 0.5532450005316751\n"
     ]
    }
   ],
   "source": [
    "eval(regg, xtrain1, ytrain1, xtest1, ytest1)"
   ]
  },
  {
   "cell_type": "code",
   "execution_count": 76,
   "id": "7c0fec53",
   "metadata": {},
   "outputs": [],
   "source": [
    " ypred = regg.predict(xtest1)"
   ]
  },
  {
   "cell_type": "code",
   "execution_count": 77,
   "id": "7b20ccf3",
   "metadata": {},
   "outputs": [
    {
     "name": "stdout",
     "output_type": "stream",
     "text": [
      "The mean absolute error is:  6.266422833091955\n",
      "The mean squared error is:  74.70865668115137\n",
      "The R2 score is:  0.5532450005316751\n"
     ]
    }
   ],
   "source": [
    "metric_score(ytest1, ypred)"
   ]
  },
  {
   "cell_type": "markdown",
   "id": "9a51bcdb",
   "metadata": {},
   "source": [
    "# Part 4: Visualization and Analysis"
   ]
  },
  {
   "cell_type": "code",
   "execution_count": 78,
   "id": "5c34f24d",
   "metadata": {},
   "outputs": [
    {
     "data": {
      "text/html": [
       "<div>\n",
       "<style scoped>\n",
       "    .dataframe tbody tr th:only-of-type {\n",
       "        vertical-align: middle;\n",
       "    }\n",
       "\n",
       "    .dataframe tbody tr th {\n",
       "        vertical-align: top;\n",
       "    }\n",
       "\n",
       "    .dataframe thead th {\n",
       "        text-align: right;\n",
       "    }\n",
       "</style>\n",
       "<table border=\"1\" class=\"dataframe\">\n",
       "  <thead>\n",
       "    <tr style=\"text-align: right;\">\n",
       "      <th></th>\n",
       "      <th>No</th>\n",
       "      <th>X1 transaction date</th>\n",
       "      <th>X2 house age</th>\n",
       "      <th>X3 distance to the nearest MRT station</th>\n",
       "      <th>X4 number of convenience stores</th>\n",
       "      <th>X5 latitude</th>\n",
       "      <th>X6 longitude</th>\n",
       "      <th>Y house price of unit area</th>\n",
       "    </tr>\n",
       "  </thead>\n",
       "  <tbody>\n",
       "    <tr>\n",
       "      <th>0</th>\n",
       "      <td>1</td>\n",
       "      <td>2012.917</td>\n",
       "      <td>32.0</td>\n",
       "      <td>84.87882</td>\n",
       "      <td>10</td>\n",
       "      <td>24.98298</td>\n",
       "      <td>121.54024</td>\n",
       "      <td>37.9</td>\n",
       "    </tr>\n",
       "    <tr>\n",
       "      <th>1</th>\n",
       "      <td>2</td>\n",
       "      <td>2012.917</td>\n",
       "      <td>19.5</td>\n",
       "      <td>306.59470</td>\n",
       "      <td>9</td>\n",
       "      <td>24.98034</td>\n",
       "      <td>121.53951</td>\n",
       "      <td>42.2</td>\n",
       "    </tr>\n",
       "    <tr>\n",
       "      <th>2</th>\n",
       "      <td>3</td>\n",
       "      <td>2013.583</td>\n",
       "      <td>13.3</td>\n",
       "      <td>561.98450</td>\n",
       "      <td>5</td>\n",
       "      <td>24.98746</td>\n",
       "      <td>121.54391</td>\n",
       "      <td>47.3</td>\n",
       "    </tr>\n",
       "    <tr>\n",
       "      <th>3</th>\n",
       "      <td>4</td>\n",
       "      <td>2013.500</td>\n",
       "      <td>13.3</td>\n",
       "      <td>561.98450</td>\n",
       "      <td>5</td>\n",
       "      <td>24.98746</td>\n",
       "      <td>121.54391</td>\n",
       "      <td>54.8</td>\n",
       "    </tr>\n",
       "    <tr>\n",
       "      <th>4</th>\n",
       "      <td>5</td>\n",
       "      <td>2012.833</td>\n",
       "      <td>5.0</td>\n",
       "      <td>390.56840</td>\n",
       "      <td>5</td>\n",
       "      <td>24.97937</td>\n",
       "      <td>121.54245</td>\n",
       "      <td>43.1</td>\n",
       "    </tr>\n",
       "    <tr>\n",
       "      <th>...</th>\n",
       "      <td>...</td>\n",
       "      <td>...</td>\n",
       "      <td>...</td>\n",
       "      <td>...</td>\n",
       "      <td>...</td>\n",
       "      <td>...</td>\n",
       "      <td>...</td>\n",
       "      <td>...</td>\n",
       "    </tr>\n",
       "    <tr>\n",
       "      <th>409</th>\n",
       "      <td>410</td>\n",
       "      <td>2013.000</td>\n",
       "      <td>13.7</td>\n",
       "      <td>4082.01500</td>\n",
       "      <td>0</td>\n",
       "      <td>24.94155</td>\n",
       "      <td>121.50381</td>\n",
       "      <td>15.4</td>\n",
       "    </tr>\n",
       "    <tr>\n",
       "      <th>410</th>\n",
       "      <td>411</td>\n",
       "      <td>2012.667</td>\n",
       "      <td>5.6</td>\n",
       "      <td>90.45606</td>\n",
       "      <td>9</td>\n",
       "      <td>24.97433</td>\n",
       "      <td>121.54310</td>\n",
       "      <td>50.0</td>\n",
       "    </tr>\n",
       "    <tr>\n",
       "      <th>411</th>\n",
       "      <td>412</td>\n",
       "      <td>2013.250</td>\n",
       "      <td>18.8</td>\n",
       "      <td>390.96960</td>\n",
       "      <td>7</td>\n",
       "      <td>24.97923</td>\n",
       "      <td>121.53986</td>\n",
       "      <td>40.6</td>\n",
       "    </tr>\n",
       "    <tr>\n",
       "      <th>412</th>\n",
       "      <td>413</td>\n",
       "      <td>2013.000</td>\n",
       "      <td>8.1</td>\n",
       "      <td>104.81010</td>\n",
       "      <td>5</td>\n",
       "      <td>24.96674</td>\n",
       "      <td>121.54067</td>\n",
       "      <td>52.5</td>\n",
       "    </tr>\n",
       "    <tr>\n",
       "      <th>413</th>\n",
       "      <td>414</td>\n",
       "      <td>2013.500</td>\n",
       "      <td>6.5</td>\n",
       "      <td>90.45606</td>\n",
       "      <td>9</td>\n",
       "      <td>24.97433</td>\n",
       "      <td>121.54310</td>\n",
       "      <td>63.9</td>\n",
       "    </tr>\n",
       "  </tbody>\n",
       "</table>\n",
       "<p>414 rows × 8 columns</p>\n",
       "</div>"
      ],
      "text/plain": [
       "      No  X1 transaction date  X2 house age  \\\n",
       "0      1             2012.917          32.0   \n",
       "1      2             2012.917          19.5   \n",
       "2      3             2013.583          13.3   \n",
       "3      4             2013.500          13.3   \n",
       "4      5             2012.833           5.0   \n",
       "..   ...                  ...           ...   \n",
       "409  410             2013.000          13.7   \n",
       "410  411             2012.667           5.6   \n",
       "411  412             2013.250          18.8   \n",
       "412  413             2013.000           8.1   \n",
       "413  414             2013.500           6.5   \n",
       "\n",
       "     X3 distance to the nearest MRT station  X4 number of convenience stores  \\\n",
       "0                                  84.87882                               10   \n",
       "1                                 306.59470                                9   \n",
       "2                                 561.98450                                5   \n",
       "3                                 561.98450                                5   \n",
       "4                                 390.56840                                5   \n",
       "..                                      ...                              ...   \n",
       "409                              4082.01500                                0   \n",
       "410                                90.45606                                9   \n",
       "411                               390.96960                                7   \n",
       "412                               104.81010                                5   \n",
       "413                                90.45606                                9   \n",
       "\n",
       "     X5 latitude  X6 longitude  Y house price of unit area  \n",
       "0       24.98298     121.54024                        37.9  \n",
       "1       24.98034     121.53951                        42.2  \n",
       "2       24.98746     121.54391                        47.3  \n",
       "3       24.98746     121.54391                        54.8  \n",
       "4       24.97937     121.54245                        43.1  \n",
       "..           ...           ...                         ...  \n",
       "409     24.94155     121.50381                        15.4  \n",
       "410     24.97433     121.54310                        50.0  \n",
       "411     24.97923     121.53986                        40.6  \n",
       "412     24.96674     121.54067                        52.5  \n",
       "413     24.97433     121.54310                        63.9  \n",
       "\n",
       "[414 rows x 8 columns]"
      ]
     },
     "execution_count": 78,
     "metadata": {},
     "output_type": "execute_result"
    }
   ],
   "source": [
    "df"
   ]
  },
  {
   "cell_type": "code",
   "execution_count": 79,
   "id": "20e8165f",
   "metadata": {},
   "outputs": [
    {
     "data": {
      "text/html": [
       "<div>\n",
       "<style scoped>\n",
       "    .dataframe tbody tr th:only-of-type {\n",
       "        vertical-align: middle;\n",
       "    }\n",
       "\n",
       "    .dataframe tbody tr th {\n",
       "        vertical-align: top;\n",
       "    }\n",
       "\n",
       "    .dataframe thead th {\n",
       "        text-align: right;\n",
       "    }\n",
       "</style>\n",
       "<table border=\"1\" class=\"dataframe\">\n",
       "  <thead>\n",
       "    <tr style=\"text-align: right;\">\n",
       "      <th></th>\n",
       "      <th>No</th>\n",
       "      <th>X1 transaction date</th>\n",
       "      <th>X2 house age</th>\n",
       "      <th>X3 distance to the nearest MRT station</th>\n",
       "      <th>X4 number of convenience stores</th>\n",
       "      <th>X5 latitude</th>\n",
       "      <th>X6 longitude</th>\n",
       "    </tr>\n",
       "  </thead>\n",
       "  <tbody>\n",
       "    <tr>\n",
       "      <th>0</th>\n",
       "      <td>1</td>\n",
       "      <td>-0.823683</td>\n",
       "      <td>1.255628</td>\n",
       "      <td>-0.792495</td>\n",
       "      <td>2.007407</td>\n",
       "      <td>1.125430</td>\n",
       "      <td>0.448762</td>\n",
       "    </tr>\n",
       "    <tr>\n",
       "      <th>1</th>\n",
       "      <td>2</td>\n",
       "      <td>-0.823683</td>\n",
       "      <td>0.157086</td>\n",
       "      <td>-0.616612</td>\n",
       "      <td>1.667503</td>\n",
       "      <td>0.912444</td>\n",
       "      <td>0.401139</td>\n",
       "    </tr>\n",
       "    <tr>\n",
       "      <th>2</th>\n",
       "      <td>3</td>\n",
       "      <td>1.541151</td>\n",
       "      <td>-0.387791</td>\n",
       "      <td>-0.414015</td>\n",
       "      <td>0.307885</td>\n",
       "      <td>1.486860</td>\n",
       "      <td>0.688183</td>\n",
       "    </tr>\n",
       "    <tr>\n",
       "      <th>3</th>\n",
       "      <td>4</td>\n",
       "      <td>1.246435</td>\n",
       "      <td>-0.387791</td>\n",
       "      <td>-0.414015</td>\n",
       "      <td>0.307885</td>\n",
       "      <td>1.486860</td>\n",
       "      <td>0.688183</td>\n",
       "    </tr>\n",
       "    <tr>\n",
       "      <th>4</th>\n",
       "      <td>5</td>\n",
       "      <td>-1.121951</td>\n",
       "      <td>-1.117223</td>\n",
       "      <td>-0.549997</td>\n",
       "      <td>0.307885</td>\n",
       "      <td>0.834188</td>\n",
       "      <td>0.592937</td>\n",
       "    </tr>\n",
       "  </tbody>\n",
       "</table>\n",
       "</div>"
      ],
      "text/plain": [
       "   No  X1 transaction date  X2 house age  \\\n",
       "0   1            -0.823683      1.255628   \n",
       "1   2            -0.823683      0.157086   \n",
       "2   3             1.541151     -0.387791   \n",
       "3   4             1.246435     -0.387791   \n",
       "4   5            -1.121951     -1.117223   \n",
       "\n",
       "   X3 distance to the nearest MRT station  X4 number of convenience stores  \\\n",
       "0                               -0.792495                         2.007407   \n",
       "1                               -0.616612                         1.667503   \n",
       "2                               -0.414015                         0.307885   \n",
       "3                               -0.414015                         0.307885   \n",
       "4                               -0.549997                         0.307885   \n",
       "\n",
       "   X5 latitude  X6 longitude  \n",
       "0     1.125430      0.448762  \n",
       "1     0.912444      0.401139  \n",
       "2     1.486860      0.688183  \n",
       "3     1.486860      0.688183  \n",
       "4     0.834188      0.592937  "
      ]
     },
     "execution_count": 79,
     "metadata": {},
     "output_type": "execute_result"
    }
   ],
   "source": [
    "x.head()"
   ]
  },
  {
   "cell_type": "code",
   "execution_count": 80,
   "id": "692f15ac",
   "metadata": {},
   "outputs": [
    {
     "data": {
      "text/plain": [
       "0    37.9\n",
       "1    42.2\n",
       "2    47.3\n",
       "3    54.8\n",
       "4    43.1\n",
       "Name: Y house price of unit area, dtype: float64"
      ]
     },
     "execution_count": 80,
     "metadata": {},
     "output_type": "execute_result"
    }
   ],
   "source": [
    "y.head()"
   ]
  },
  {
   "cell_type": "code",
   "execution_count": 81,
   "id": "c8b3a36e",
   "metadata": {},
   "outputs": [
    {
     "data": {
      "image/png": "[encoded data removed]",
      "text/plain": [
       "<Figure size 576x432 with 1 Axes>"
      ]
     },
     "metadata": {
      "needs_background": "light"
     },
     "output_type": "display_data"
    },
    {
     "data": {
      "image/png": "[encoded data removed]",
      "text/plain": [
       "<Figure size 576x432 with 1 Axes>"
      ]
     },
     "metadata": {
      "needs_background": "light"
     },
     "output_type": "display_data"
    },
    {
     "data": {
      "image/png": "[encoded data removed]",
      "text/plain": [
       "<Figure size 576x432 with 1 Axes>"
      ]
     },
     "metadata": {
      "needs_background": "light"
     },
     "output_type": "display_data"
    },
    {
     "data": {
      "image/png": "[encoded data removed]",
      "text/plain": [
       "<Figure size 576x432 with 1 Axes>"
      ]
     },
     "metadata": {
      "needs_background": "light"
     },
     "output_type": "display_data"
    },
    {
     "data": {
      "image/png": "[encoded data removed]",
      "text/plain": [
       "<Figure size 576x432 with 1 Axes>"
      ]
     },
     "metadata": {
      "needs_background": "light"
     },
     "output_type": "display_data"
    },
    {
     "data": {
      "image/png": "[encoded data removed]",
      "text/plain": [
       "<Figure size 576x432 with 1 Axes>"
      ]
     },
     "metadata": {
      "needs_background": "light"
     },
     "output_type": "display_data"
    },
    {
     "data": {
      "image/png": "[encoded data removed]",
      "text/plain": [
       "<Figure size 576x432 with 1 Axes>"
      ]
     },
     "metadata": {
      "needs_background": "light"
     },
     "output_type": "display_data"
    }
   ],
   "source": [
    "for feature in ['No', 'X1 transaction date', 'X2 house age', 'X3 distance to the nearest MRT station', 'X4 number of convenience stores', 'X5 latitude','X6 longitude']:\n",
    "    plt.figure(figsize=(8, 6))\n",
    "    plt.scatter(df[feature], df['Y house price of unit area'])\n",
    "    plt.title(f'Scatter Plot of {feature} vsY house price of unit area')\n",
    "    plt.xlabel(feature)\n",
    "    plt.ylabel('Y house price of unit area')\n",
    "    plt.show()"
   ]
  },
  {
   "cell_type": "code",
   "execution_count": 82,
   "id": "2825b6bb",
   "metadata": {},
   "outputs": [
    {
     "data": {
      "text/plain": [
       "0    37.9\n",
       "1    42.2\n",
       "2    47.3\n",
       "3    54.8\n",
       "4    43.1\n",
       "Name: Y house price of unit area, dtype: float64"
      ]
     },
     "execution_count": 82,
     "metadata": {},
     "output_type": "execute_result"
    }
   ],
   "source": [
    "y.head()"
   ]
  },
  {
   "cell_type": "code",
   "execution_count": 83,
   "id": "e9adfbf5",
   "metadata": {},
   "outputs": [
    {
     "data": {
      "text/plain": [
       "array([48.6043899 , 15.15475334, 48.15382257, 11.92750391, 29.6242744 ,\n",
       "       34.66414494, 40.59361358, 45.86430697, 39.82410749, 37.4100941 ,\n",
       "       34.23083329, 37.79408197, 26.67832641, 34.57236002, 25.31286829,\n",
       "       37.47044678, 44.02772159, 53.23200497, 36.19512856, 48.51676012,\n",
       "       41.49578565, 42.53044335, 43.63858314, 45.4599633 , 30.32189926,\n",
       "       43.85589781, 31.55789727, 39.6824392 , 41.43803944, 54.56876232,\n",
       "       44.28855433, 33.76063217, 41.75967348, 46.55013489, 42.559891  ,\n",
       "       39.26025614, 40.18498037, 47.76227546, 36.66446632, 45.43887639,\n",
       "       41.54799717, 36.0456262 , 11.22729998, 43.85683628, 39.04139555,\n",
       "       42.76142045, 51.03827808, 46.23953371, 33.31740472, 38.78288944,\n",
       "       27.86599518, 51.82593561, 43.81896054, 16.87452813, 40.25692954,\n",
       "       47.6890032 , 46.42215416, 43.63452077, 28.69617288, 45.73615498,\n",
       "       45.26074703, 54.1196651 , 44.37093871, 43.87034358, 39.03115601,\n",
       "        5.64695705, 44.92602732, 48.71496878, 30.97037855, 29.8323399 ,\n",
       "       41.66973377, 33.99339747, 34.19138175, 48.28991702, 35.26757994,\n",
       "       38.48753375, 14.87692626, 10.46384899, 11.19285727, 49.57617753,\n",
       "       48.09346963, 41.20830299, 47.12075235, 30.41937209, 43.29629812,\n",
       "       45.6339    , 42.29755704, 43.37914387, 39.66007576, 45.90675588,\n",
       "       15.46405892, 43.41511281, 45.43690404, 42.39770935, 37.97656546,\n",
       "       45.0564003 , 44.36183961, 54.1834541 , 47.39582887, 31.23684653,\n",
       "       53.22359661, 34.54142528, 40.48351175, 29.82245597, 23.28736158,\n",
       "       34.7833722 , 12.51987531, 53.95407215, 36.64957516, 33.40091739,\n",
       "       13.83748542, 45.10620249, 29.18707204,  7.9076713 , 41.58199362,\n",
       "       30.40315343, 44.1595434 , 16.10676235, 46.44453287, 43.36473897,\n",
       "       48.01327465, 50.35876673, 11.16057124, 27.14685391, 39.12441431,\n",
       "       26.11137377, 41.257222  , 46.65472887, 42.6354549 , 54.07049704,\n",
       "       42.65067282, 39.13872985, 31.14857463, 49.27110934, 48.3526478 ,\n",
       "       31.45703288, 38.41832097, 48.16448182, 30.96781557, 48.44315113,\n",
       "       46.50323284, 45.46963122, 49.08770728, 33.14020987, 30.32510009,\n",
       "       39.56279584, 41.91839217, 33.61172553, 44.44526744, 12.35344719,\n",
       "       42.31959975, 43.92091959, 44.87813234, 39.30572208, 44.81815533,\n",
       "       23.91298653, 33.24873303, 30.49623329, 45.19812159, 46.23239507,\n",
       "       16.83803964, 40.29539306, 50.66850407, 29.63682483, 46.38527558,\n",
       "       41.28067235, 47.00506663, 37.77320607, 42.71844522, 45.91311923,\n",
       "       12.38476641, 35.37245784, 51.4780372 , 48.06501005, 48.20975132,\n",
       "       38.76329274, 46.57708584, 51.25562971, 39.6971158 , 32.73514954,\n",
       "       36.78105421, 33.52225892, 40.62039957, 43.25401931, 29.94994089,\n",
       "       36.16633032, 37.52925872, 48.01273184, 11.87741386, 31.41101813,\n",
       "       39.49477129, 30.51679951, 30.6726479 , 38.58306732,  9.8922312 ,\n",
       "       33.85738012, 44.583909  , 47.10832075, 27.88861646, 14.24363441,\n",
       "       49.78865452, 41.87175451, 33.48032894, 40.33198903, 51.2935932 ,\n",
       "       54.42804547, 34.88660442, 37.92880343, 30.25598796, 48.14650384,\n",
       "       23.84933143, 45.80211674, 39.77784962, 34.09977289, 31.57444126,\n",
       "       48.18830178, 42.48749093, 41.54308823, 41.64877079, 44.85216503,\n",
       "       25.07540893, 32.09944678, 48.57387136, 42.56262092, 49.13113672,\n",
       "        9.55171453, 45.55184753, 37.51576364, 48.07755584, 35.49735586,\n",
       "       39.60914595, 49.61212195, 37.13395153, 39.47629673, 39.87591043,\n",
       "       47.03672467, 27.77363247, 35.87653098, 37.71197155, 43.02275798,\n",
       "       51.61415383, 33.6295302 , 22.8541617 , 37.41693234, 43.01391415,\n",
       "       44.24851462, 35.59879503, 47.32358239, 46.59985763, 49.58488453,\n",
       "       43.38798824, 51.96491483, 12.61513566, 45.83143044, 19.38760381,\n",
       "       29.59592572, 14.16101317, 13.04584201, 28.14649887, 42.87105781,\n",
       "       49.84082518, 50.58884872, 45.81939489, 47.16295639, 36.74238151,\n",
       "       39.03181484, 50.32333111, 41.61344892, 42.35531478, 40.17471641,\n",
       "       46.89525232, 40.87356589, 45.89298439, 54.96801453, 25.98870344,\n",
       "       54.10088654, 39.04204694, 17.01251209, 24.19541458, 36.1902786 ,\n",
       "       44.50864812, 52.5978079 , 36.31057408, 42.87183032, 36.71280251,\n",
       "       48.57822672, 42.86934691, 45.71833411, 47.74521681])"
      ]
     },
     "execution_count": 83,
     "metadata": {},
     "output_type": "execute_result"
    }
   ],
   "source": [
    "y_train_pred"
   ]
  },
  {
   "cell_type": "code",
   "execution_count": 84,
   "id": "84cd4173",
   "metadata": {},
   "outputs": [
    {
     "data": {
      "text/plain": [
       "array([46.63500169, 40.24113343, 43.27451225, 39.42392538, 26.41737818,\n",
       "       46.7590668 , 44.373057  , 47.01617107, 24.73302641, 55.20723326,\n",
       "       35.24453596, 36.78602271, 36.4558036 , 24.60160749, 36.61256768,\n",
       "       33.53862681, 45.03590136, 44.58139926, 28.94545078, 44.76056711,\n",
       "        0.46682603, 36.54865933, 47.03676744, 46.0376176 ,  9.80819889,\n",
       "       38.86395109, 11.68678066, 43.58101045, 36.53440728, 38.39504924,\n",
       "       14.01814402, 40.52535499, 36.19016624, 27.92929379, 47.6811978 ,\n",
       "       31.72262215, 50.12022329, 11.90992025, 49.7289872 , 39.96859915,\n",
       "       40.30835716, 40.32736106, 48.95145733, 37.02885946, 39.3123335 ,\n",
       "       47.1579367 , 43.1837143 , 19.4356479 , 46.5513857 , 45.01065879,\n",
       "       47.95387969, 47.84393899, 42.13580911, 42.63926258, 36.87174334,\n",
       "       14.96775073, 38.47796057, 34.52383209, 29.14602677, 47.16202053,\n",
       "       31.67605557, 34.02453236, 14.45447017,  8.47825601,  8.65310317,\n",
       "       33.98533086, 28.95263146, 47.78257453, 34.71098129, 31.2232578 ,\n",
       "       46.53508355, 39.99235066, 46.51439683, 45.67303484, 36.8520268 ,\n",
       "       39.02877384, 38.32789967, 36.5252545 , 41.87452293, 33.40281218,\n",
       "       42.84785841, 43.34927785, 27.57622957, 39.65641739, 33.68970862,\n",
       "       31.83691367, 41.01292147, 45.10418987, 34.01545545, 40.13482404,\n",
       "       11.44439999, 40.28424689, 41.24264458, 49.86614525, 47.8863636 ,\n",
       "       40.16136477, 35.18698551, 44.25200054, 31.03996771, 48.3481719 ,\n",
       "       29.34500311, 33.63381363, 44.02445164, 30.42773258, 48.10312974,\n",
       "       47.95095215, 29.13773787, 25.16670746, 41.5233393 , 38.77847766,\n",
       "       37.97612888, 40.79704031, 48.560025  , 46.36555328, 17.30414638,\n",
       "       40.19238039, 45.00476671, 44.26811704, 31.16670717, 32.61196958,\n",
       "       45.85256705, 14.92000031, 51.57449797, 47.50814917, 37.16220654])"
      ]
     },
     "execution_count": 84,
     "metadata": {},
     "output_type": "execute_result"
    }
   ],
   "source": [
    "y_test_pred"
   ]
  },
  {
   "cell_type": "code",
   "execution_count": 85,
   "id": "71f52f1b",
   "metadata": {},
   "outputs": [],
   "source": [
    "array1 = pd.Series([y_train_pred])\n",
    "array2 = pd.Series([y_test_pred])\n"
   ]
  },
  {
   "cell_type": "code",
   "execution_count": 86,
   "id": "b911c310",
   "metadata": {},
   "outputs": [
    {
     "data": {
      "text/plain": [
       "0    [48.604389896625435, 15.154753339225863, 48.15...\n",
       "dtype: object"
      ]
     },
     "execution_count": 86,
     "metadata": {},
     "output_type": "execute_result"
    }
   ],
   "source": [
    "array1 "
   ]
  },
  {
   "cell_type": "code",
   "execution_count": 87,
   "id": "16af31a4",
   "metadata": {},
   "outputs": [],
   "source": [
    "# Using .append() method\n",
    "#combined_pred_append = array1.append(array2, ignore_index=True)\n",
    "\n",
    "# Using pd.concat()\n",
    "combined_pred_concat = pd.concat([array1, array2], ignore_index=True)"
   ]
  },
  {
   "cell_type": "code",
   "execution_count": 88,
   "id": "bac5cb3e",
   "metadata": {},
   "outputs": [
    {
     "data": {
      "text/plain": [
       "0    [48.604389896625435, 15.154753339225863, 48.15...\n",
       "1    [46.635001689244746, 40.24113343093995, 43.274...\n",
       "dtype: object"
      ]
     },
     "execution_count": 88,
     "metadata": {},
     "output_type": "execute_result"
    }
   ],
   "source": [
    "combined_pred_concat"
   ]
  },
  {
   "cell_type": "code",
   "execution_count": 89,
   "id": "b9961785",
   "metadata": {},
   "outputs": [
    {
     "data": {
      "text/plain": [
       "(414,)"
      ]
     },
     "execution_count": 89,
     "metadata": {},
     "output_type": "execute_result"
    }
   ],
   "source": [
    "y.shape"
   ]
  },
  {
   "cell_type": "code",
   "execution_count": 90,
   "id": "d5185079",
   "metadata": {},
   "outputs": [
    {
     "data": {
      "text/plain": [
       "(289,)"
      ]
     },
     "execution_count": 90,
     "metadata": {},
     "output_type": "execute_result"
    }
   ],
   "source": [
    "y_train_pred.shape"
   ]
  },
  {
   "cell_type": "code",
   "execution_count": 91,
   "id": "a748b072",
   "metadata": {},
   "outputs": [
    {
     "data": {
      "text/plain": [
       "(125,)"
      ]
     },
     "execution_count": 91,
     "metadata": {},
     "output_type": "execute_result"
    }
   ],
   "source": [
    "y_test_pred.shape"
   ]
  },
  {
   "cell_type": "code",
   "execution_count": 92,
   "id": "c6d61d57",
   "metadata": {},
   "outputs": [],
   "source": [
    "o = np.hstack((y_train_pred, y_test_pred))"
   ]
  },
  {
   "cell_type": "code",
   "execution_count": 93,
   "id": "ddc39024",
   "metadata": {},
   "outputs": [
    {
     "data": {
      "text/plain": [
       "array([48.6043899 , 15.15475334, 48.15382257, 11.92750391, 29.6242744 ,\n",
       "       34.66414494, 40.59361358, 45.86430697, 39.82410749, 37.4100941 ,\n",
       "       34.23083329, 37.79408197, 26.67832641, 34.57236002, 25.31286829,\n",
       "       37.47044678, 44.02772159, 53.23200497, 36.19512856, 48.51676012,\n",
       "       41.49578565, 42.53044335, 43.63858314, 45.4599633 , 30.32189926,\n",
       "       43.85589781, 31.55789727, 39.6824392 , 41.43803944, 54.56876232,\n",
       "       44.28855433, 33.76063217, 41.75967348, 46.55013489, 42.559891  ,\n",
       "       39.26025614, 40.18498037, 47.76227546, 36.66446632, 45.43887639,\n",
       "       41.54799717, 36.0456262 , 11.22729998, 43.85683628, 39.04139555,\n",
       "       42.76142045, 51.03827808, 46.23953371, 33.31740472, 38.78288944,\n",
       "       27.86599518, 51.82593561, 43.81896054, 16.87452813, 40.25692954,\n",
       "       47.6890032 , 46.42215416, 43.63452077, 28.69617288, 45.73615498,\n",
       "       45.26074703, 54.1196651 , 44.37093871, 43.87034358, 39.03115601,\n",
       "        5.64695705, 44.92602732, 48.71496878, 30.97037855, 29.8323399 ,\n",
       "       41.66973377, 33.99339747, 34.19138175, 48.28991702, 35.26757994,\n",
       "       38.48753375, 14.87692626, 10.46384899, 11.19285727, 49.57617753,\n",
       "       48.09346963, 41.20830299, 47.12075235, 30.41937209, 43.29629812,\n",
       "       45.6339    , 42.29755704, 43.37914387, 39.66007576, 45.90675588,\n",
       "       15.46405892, 43.41511281, 45.43690404, 42.39770935, 37.97656546,\n",
       "       45.0564003 , 44.36183961, 54.1834541 , 47.39582887, 31.23684653,\n",
       "       53.22359661, 34.54142528, 40.48351175, 29.82245597, 23.28736158,\n",
       "       34.7833722 , 12.51987531, 53.95407215, 36.64957516, 33.40091739,\n",
       "       13.83748542, 45.10620249, 29.18707204,  7.9076713 , 41.58199362,\n",
       "       30.40315343, 44.1595434 , 16.10676235, 46.44453287, 43.36473897,\n",
       "       48.01327465, 50.35876673, 11.16057124, 27.14685391, 39.12441431,\n",
       "       26.11137377, 41.257222  , 46.65472887, 42.6354549 , 54.07049704,\n",
       "       42.65067282, 39.13872985, 31.14857463, 49.27110934, 48.3526478 ,\n",
       "       31.45703288, 38.41832097, 48.16448182, 30.96781557, 48.44315113,\n",
       "       46.50323284, 45.46963122, 49.08770728, 33.14020987, 30.32510009,\n",
       "       39.56279584, 41.91839217, 33.61172553, 44.44526744, 12.35344719,\n",
       "       42.31959975, 43.92091959, 44.87813234, 39.30572208, 44.81815533,\n",
       "       23.91298653, 33.24873303, 30.49623329, 45.19812159, 46.23239507,\n",
       "       16.83803964, 40.29539306, 50.66850407, 29.63682483, 46.38527558,\n",
       "       41.28067235, 47.00506663, 37.77320607, 42.71844522, 45.91311923,\n",
       "       12.38476641, 35.37245784, 51.4780372 , 48.06501005, 48.20975132,\n",
       "       38.76329274, 46.57708584, 51.25562971, 39.6971158 , 32.73514954,\n",
       "       36.78105421, 33.52225892, 40.62039957, 43.25401931, 29.94994089,\n",
       "       36.16633032, 37.52925872, 48.01273184, 11.87741386, 31.41101813,\n",
       "       39.49477129, 30.51679951, 30.6726479 , 38.58306732,  9.8922312 ,\n",
       "       33.85738012, 44.583909  , 47.10832075, 27.88861646, 14.24363441,\n",
       "       49.78865452, 41.87175451, 33.48032894, 40.33198903, 51.2935932 ,\n",
       "       54.42804547, 34.88660442, 37.92880343, 30.25598796, 48.14650384,\n",
       "       23.84933143, 45.80211674, 39.77784962, 34.09977289, 31.57444126,\n",
       "       48.18830178, 42.48749093, 41.54308823, 41.64877079, 44.85216503,\n",
       "       25.07540893, 32.09944678, 48.57387136, 42.56262092, 49.13113672,\n",
       "        9.55171453, 45.55184753, 37.51576364, 48.07755584, 35.49735586,\n",
       "       39.60914595, 49.61212195, 37.13395153, 39.47629673, 39.87591043,\n",
       "       47.03672467, 27.77363247, 35.87653098, 37.71197155, 43.02275798,\n",
       "       51.61415383, 33.6295302 , 22.8541617 , 37.41693234, 43.01391415,\n",
       "       44.24851462, 35.59879503, 47.32358239, 46.59985763, 49.58488453,\n",
       "       43.38798824, 51.96491483, 12.61513566, 45.83143044, 19.38760381,\n",
       "       29.59592572, 14.16101317, 13.04584201, 28.14649887, 42.87105781,\n",
       "       49.84082518, 50.58884872, 45.81939489, 47.16295639, 36.74238151,\n",
       "       39.03181484, 50.32333111, 41.61344892, 42.35531478, 40.17471641,\n",
       "       46.89525232, 40.87356589, 45.89298439, 54.96801453, 25.98870344,\n",
       "       54.10088654, 39.04204694, 17.01251209, 24.19541458, 36.1902786 ,\n",
       "       44.50864812, 52.5978079 , 36.31057408, 42.87183032, 36.71280251,\n",
       "       48.57822672, 42.86934691, 45.71833411, 47.74521681, 46.63500169,\n",
       "       40.24113343, 43.27451225, 39.42392538, 26.41737818, 46.7590668 ,\n",
       "       44.373057  , 47.01617107, 24.73302641, 55.20723326, 35.24453596,\n",
       "       36.78602271, 36.4558036 , 24.60160749, 36.61256768, 33.53862681,\n",
       "       45.03590136, 44.58139926, 28.94545078, 44.76056711,  0.46682603,\n",
       "       36.54865933, 47.03676744, 46.0376176 ,  9.80819889, 38.86395109,\n",
       "       11.68678066, 43.58101045, 36.53440728, 38.39504924, 14.01814402,\n",
       "       40.52535499, 36.19016624, 27.92929379, 47.6811978 , 31.72262215,\n",
       "       50.12022329, 11.90992025, 49.7289872 , 39.96859915, 40.30835716,\n",
       "       40.32736106, 48.95145733, 37.02885946, 39.3123335 , 47.1579367 ,\n",
       "       43.1837143 , 19.4356479 , 46.5513857 , 45.01065879, 47.95387969,\n",
       "       47.84393899, 42.13580911, 42.63926258, 36.87174334, 14.96775073,\n",
       "       38.47796057, 34.52383209, 29.14602677, 47.16202053, 31.67605557,\n",
       "       34.02453236, 14.45447017,  8.47825601,  8.65310317, 33.98533086,\n",
       "       28.95263146, 47.78257453, 34.71098129, 31.2232578 , 46.53508355,\n",
       "       39.99235066, 46.51439683, 45.67303484, 36.8520268 , 39.02877384,\n",
       "       38.32789967, 36.5252545 , 41.87452293, 33.40281218, 42.84785841,\n",
       "       43.34927785, 27.57622957, 39.65641739, 33.68970862, 31.83691367,\n",
       "       41.01292147, 45.10418987, 34.01545545, 40.13482404, 11.44439999,\n",
       "       40.28424689, 41.24264458, 49.86614525, 47.8863636 , 40.16136477,\n",
       "       35.18698551, 44.25200054, 31.03996771, 48.3481719 , 29.34500311,\n",
       "       33.63381363, 44.02445164, 30.42773258, 48.10312974, 47.95095215,\n",
       "       29.13773787, 25.16670746, 41.5233393 , 38.77847766, 37.97612888,\n",
       "       40.79704031, 48.560025  , 46.36555328, 17.30414638, 40.19238039,\n",
       "       45.00476671, 44.26811704, 31.16670717, 32.61196958, 45.85256705,\n",
       "       14.92000031, 51.57449797, 47.50814917, 37.16220654])"
      ]
     },
     "execution_count": 93,
     "metadata": {},
     "output_type": "execute_result"
    }
   ],
   "source": [
    "o"
   ]
  },
  {
   "cell_type": "code",
   "execution_count": 94,
   "id": "932a1179",
   "metadata": {},
   "outputs": [
    {
     "data": {
      "text/plain": [
       "(414,)"
      ]
     },
     "execution_count": 94,
     "metadata": {},
     "output_type": "execute_result"
    }
   ],
   "source": [
    "o.shape"
   ]
  },
  {
   "cell_type": "code",
   "execution_count": 98,
   "id": "697dba98",
   "metadata": {},
   "outputs": [
    {
     "data": {
      "image/png": "[encoded data removed]",
      "text/plain": [
       "<Figure size 432x288 with 1 Axes>"
      ]
     },
     "metadata": {
      "needs_background": "light"
     },
     "output_type": "display_data"
    }
   ],
   "source": [
    "plt.scatter(y, o, color = 'hotpink')\n",
    "plt.show()"
   ]
  },
  {
   "cell_type": "code",
   "execution_count": 99,
   "id": "fa0b5747",
   "metadata": {},
   "outputs": [],
   "source": [
    "import seaborn as sns"
   ]
  },
  {
   "cell_type": "code",
   "execution_count": 115,
   "id": "40d8e3b7",
   "metadata": {},
   "outputs": [
    {
     "data": {
      "image/png": "[encoded data removed]",
      "text/plain": [
       "<Figure size 432x288 with 1 Axes>"
      ]
     },
     "metadata": {
      "needs_background": "light"
     },
     "output_type": "display_data"
    }
   ],
   "source": [
    "# Create scatter plot using Seaborn\n",
    "sns.scatterplot(x=y, y=o, color='blue', label='o')\n",
    "sns.scatterplot(x=y, y=o, color='red', label='y')\n",
    "\n",
    "# Add labels and legend\n",
    "plt.xlabel('y value')\n",
    "plt.ylabel('y pred')\n",
    "plt.title('price')\n",
    "plt.legend()\n",
    "\n",
    "# Show the plot\n",
    "plt.show()\n"
   ]
  },
  {
   "cell_type": "markdown",
   "id": "29706bc7",
   "metadata": {},
   "source": [
    "# Part 5: Advanced Problem (Optional)\n"
   ]
  },
  {
   "cell_type": "code",
   "execution_count": 114,
   "id": "8749dbf7",
   "metadata": {},
   "outputs": [
    {
     "data": {
      "text/html": [
       "<div>\n",
       "<style scoped>\n",
       "    .dataframe tbody tr th:only-of-type {\n",
       "        vertical-align: middle;\n",
       "    }\n",
       "\n",
       "    .dataframe tbody tr th {\n",
       "        vertical-align: top;\n",
       "    }\n",
       "\n",
       "    .dataframe thead th {\n",
       "        text-align: right;\n",
       "    }\n",
       "</style>\n",
       "<table border=\"1\" class=\"dataframe\">\n",
       "  <thead>\n",
       "    <tr style=\"text-align: right;\">\n",
       "      <th></th>\n",
       "      <th>No</th>\n",
       "      <th>X1 transaction date</th>\n",
       "      <th>X2 house age</th>\n",
       "      <th>X3 distance to the nearest MRT station</th>\n",
       "      <th>X4 number of convenience stores</th>\n",
       "      <th>X5 latitude</th>\n",
       "      <th>X6 longitude</th>\n",
       "      <th>Y house price of unit area</th>\n",
       "    </tr>\n",
       "  </thead>\n",
       "  <tbody>\n",
       "    <tr>\n",
       "      <th>0</th>\n",
       "      <td>1</td>\n",
       "      <td>2012.917</td>\n",
       "      <td>32.0</td>\n",
       "      <td>84.87882</td>\n",
       "      <td>10</td>\n",
       "      <td>24.98298</td>\n",
       "      <td>121.54024</td>\n",
       "      <td>37.9</td>\n",
       "    </tr>\n",
       "    <tr>\n",
       "      <th>1</th>\n",
       "      <td>2</td>\n",
       "      <td>2012.917</td>\n",
       "      <td>19.5</td>\n",
       "      <td>306.59470</td>\n",
       "      <td>9</td>\n",
       "      <td>24.98034</td>\n",
       "      <td>121.53951</td>\n",
       "      <td>42.2</td>\n",
       "    </tr>\n",
       "    <tr>\n",
       "      <th>2</th>\n",
       "      <td>3</td>\n",
       "      <td>2013.583</td>\n",
       "      <td>13.3</td>\n",
       "      <td>561.98450</td>\n",
       "      <td>5</td>\n",
       "      <td>24.98746</td>\n",
       "      <td>121.54391</td>\n",
       "      <td>47.3</td>\n",
       "    </tr>\n",
       "    <tr>\n",
       "      <th>3</th>\n",
       "      <td>4</td>\n",
       "      <td>2013.500</td>\n",
       "      <td>13.3</td>\n",
       "      <td>561.98450</td>\n",
       "      <td>5</td>\n",
       "      <td>24.98746</td>\n",
       "      <td>121.54391</td>\n",
       "      <td>54.8</td>\n",
       "    </tr>\n",
       "    <tr>\n",
       "      <th>4</th>\n",
       "      <td>5</td>\n",
       "      <td>2012.833</td>\n",
       "      <td>5.0</td>\n",
       "      <td>390.56840</td>\n",
       "      <td>5</td>\n",
       "      <td>24.97937</td>\n",
       "      <td>121.54245</td>\n",
       "      <td>43.1</td>\n",
       "    </tr>\n",
       "    <tr>\n",
       "      <th>...</th>\n",
       "      <td>...</td>\n",
       "      <td>...</td>\n",
       "      <td>...</td>\n",
       "      <td>...</td>\n",
       "      <td>...</td>\n",
       "      <td>...</td>\n",
       "      <td>...</td>\n",
       "      <td>...</td>\n",
       "    </tr>\n",
       "    <tr>\n",
       "      <th>409</th>\n",
       "      <td>410</td>\n",
       "      <td>2013.000</td>\n",
       "      <td>13.7</td>\n",
       "      <td>4082.01500</td>\n",
       "      <td>0</td>\n",
       "      <td>24.94155</td>\n",
       "      <td>121.50381</td>\n",
       "      <td>15.4</td>\n",
       "    </tr>\n",
       "    <tr>\n",
       "      <th>410</th>\n",
       "      <td>411</td>\n",
       "      <td>2012.667</td>\n",
       "      <td>5.6</td>\n",
       "      <td>90.45606</td>\n",
       "      <td>9</td>\n",
       "      <td>24.97433</td>\n",
       "      <td>121.54310</td>\n",
       "      <td>50.0</td>\n",
       "    </tr>\n",
       "    <tr>\n",
       "      <th>411</th>\n",
       "      <td>412</td>\n",
       "      <td>2013.250</td>\n",
       "      <td>18.8</td>\n",
       "      <td>390.96960</td>\n",
       "      <td>7</td>\n",
       "      <td>24.97923</td>\n",
       "      <td>121.53986</td>\n",
       "      <td>40.6</td>\n",
       "    </tr>\n",
       "    <tr>\n",
       "      <th>412</th>\n",
       "      <td>413</td>\n",
       "      <td>2013.000</td>\n",
       "      <td>8.1</td>\n",
       "      <td>104.81010</td>\n",
       "      <td>5</td>\n",
       "      <td>24.96674</td>\n",
       "      <td>121.54067</td>\n",
       "      <td>52.5</td>\n",
       "    </tr>\n",
       "    <tr>\n",
       "      <th>413</th>\n",
       "      <td>414</td>\n",
       "      <td>2013.500</td>\n",
       "      <td>6.5</td>\n",
       "      <td>90.45606</td>\n",
       "      <td>9</td>\n",
       "      <td>24.97433</td>\n",
       "      <td>121.54310</td>\n",
       "      <td>63.9</td>\n",
       "    </tr>\n",
       "  </tbody>\n",
       "</table>\n",
       "<p>414 rows × 8 columns</p>\n",
       "</div>"
      ],
      "text/plain": [
       "      No  X1 transaction date  X2 house age  \\\n",
       "0      1             2012.917          32.0   \n",
       "1      2             2012.917          19.5   \n",
       "2      3             2013.583          13.3   \n",
       "3      4             2013.500          13.3   \n",
       "4      5             2012.833           5.0   \n",
       "..   ...                  ...           ...   \n",
       "409  410             2013.000          13.7   \n",
       "410  411             2012.667           5.6   \n",
       "411  412             2013.250          18.8   \n",
       "412  413             2013.000           8.1   \n",
       "413  414             2013.500           6.5   \n",
       "\n",
       "     X3 distance to the nearest MRT station  X4 number of convenience stores  \\\n",
       "0                                  84.87882                               10   \n",
       "1                                 306.59470                                9   \n",
       "2                                 561.98450                                5   \n",
       "3                                 561.98450                                5   \n",
       "4                                 390.56840                                5   \n",
       "..                                      ...                              ...   \n",
       "409                              4082.01500                                0   \n",
       "410                                90.45606                                9   \n",
       "411                               390.96960                                7   \n",
       "412                               104.81010                                5   \n",
       "413                                90.45606                                9   \n",
       "\n",
       "     X5 latitude  X6 longitude  Y house price of unit area  \n",
       "0       24.98298     121.54024                        37.9  \n",
       "1       24.98034     121.53951                        42.2  \n",
       "2       24.98746     121.54391                        47.3  \n",
       "3       24.98746     121.54391                        54.8  \n",
       "4       24.97937     121.54245                        43.1  \n",
       "..           ...           ...                         ...  \n",
       "409     24.94155     121.50381                        15.4  \n",
       "410     24.97433     121.54310                        50.0  \n",
       "411     24.97923     121.53986                        40.6  \n",
       "412     24.96674     121.54067                        52.5  \n",
       "413     24.97433     121.54310                        63.9  \n",
       "\n",
       "[414 rows x 8 columns]"
      ]
     },
     "execution_count": 114,
     "metadata": {},
     "output_type": "execute_result"
    }
   ],
   "source": [
    "df"
   ]
  },
  {
   "cell_type": "code",
   "execution_count": 115,
   "id": "82d4a279",
   "metadata": {},
   "outputs": [
    {
     "data": {
      "text/html": [
       "<div>\n",
       "<style scoped>\n",
       "    .dataframe tbody tr th:only-of-type {\n",
       "        vertical-align: middle;\n",
       "    }\n",
       "\n",
       "    .dataframe tbody tr th {\n",
       "        vertical-align: top;\n",
       "    }\n",
       "\n",
       "    .dataframe thead th {\n",
       "        text-align: right;\n",
       "    }\n",
       "</style>\n",
       "<table border=\"1\" class=\"dataframe\">\n",
       "  <thead>\n",
       "    <tr style=\"text-align: right;\">\n",
       "      <th></th>\n",
       "      <th>No</th>\n",
       "      <th>X1 transaction date</th>\n",
       "      <th>X2 house age</th>\n",
       "      <th>X3 distance to the nearest MRT station</th>\n",
       "      <th>X4 number of convenience stores</th>\n",
       "      <th>X5 latitude</th>\n",
       "      <th>X6 longitude</th>\n",
       "    </tr>\n",
       "  </thead>\n",
       "  <tbody>\n",
       "    <tr>\n",
       "      <th>0</th>\n",
       "      <td>1</td>\n",
       "      <td>-0.823683</td>\n",
       "      <td>1.255628</td>\n",
       "      <td>-0.792495</td>\n",
       "      <td>2.007407</td>\n",
       "      <td>1.125430</td>\n",
       "      <td>0.448762</td>\n",
       "    </tr>\n",
       "    <tr>\n",
       "      <th>1</th>\n",
       "      <td>2</td>\n",
       "      <td>-0.823683</td>\n",
       "      <td>0.157086</td>\n",
       "      <td>-0.616612</td>\n",
       "      <td>1.667503</td>\n",
       "      <td>0.912444</td>\n",
       "      <td>0.401139</td>\n",
       "    </tr>\n",
       "    <tr>\n",
       "      <th>2</th>\n",
       "      <td>3</td>\n",
       "      <td>1.541151</td>\n",
       "      <td>-0.387791</td>\n",
       "      <td>-0.414015</td>\n",
       "      <td>0.307885</td>\n",
       "      <td>1.486860</td>\n",
       "      <td>0.688183</td>\n",
       "    </tr>\n",
       "    <tr>\n",
       "      <th>3</th>\n",
       "      <td>4</td>\n",
       "      <td>1.246435</td>\n",
       "      <td>-0.387791</td>\n",
       "      <td>-0.414015</td>\n",
       "      <td>0.307885</td>\n",
       "      <td>1.486860</td>\n",
       "      <td>0.688183</td>\n",
       "    </tr>\n",
       "    <tr>\n",
       "      <th>4</th>\n",
       "      <td>5</td>\n",
       "      <td>-1.121951</td>\n",
       "      <td>-1.117223</td>\n",
       "      <td>-0.549997</td>\n",
       "      <td>0.307885</td>\n",
       "      <td>0.834188</td>\n",
       "      <td>0.592937</td>\n",
       "    </tr>\n",
       "  </tbody>\n",
       "</table>\n",
       "</div>"
      ],
      "text/plain": [
       "   No  X1 transaction date  X2 house age  \\\n",
       "0   1            -0.823683      1.255628   \n",
       "1   2            -0.823683      0.157086   \n",
       "2   3             1.541151     -0.387791   \n",
       "3   4             1.246435     -0.387791   \n",
       "4   5            -1.121951     -1.117223   \n",
       "\n",
       "   X3 distance to the nearest MRT station  X4 number of convenience stores  \\\n",
       "0                               -0.792495                         2.007407   \n",
       "1                               -0.616612                         1.667503   \n",
       "2                               -0.414015                         0.307885   \n",
       "3                               -0.414015                         0.307885   \n",
       "4                               -0.549997                         0.307885   \n",
       "\n",
       "   X5 latitude  X6 longitude  \n",
       "0     1.125430      0.448762  \n",
       "1     0.912444      0.401139  \n",
       "2     1.486860      0.688183  \n",
       "3     1.486860      0.688183  \n",
       "4     0.834188      0.592937  "
      ]
     },
     "execution_count": 115,
     "metadata": {},
     "output_type": "execute_result"
    }
   ],
   "source": [
    "x.head()"
   ]
  },
  {
   "cell_type": "code",
   "execution_count": 116,
   "id": "e164e815",
   "metadata": {},
   "outputs": [
    {
     "data": {
      "text/plain": [
       "0    37.9\n",
       "1    42.2\n",
       "2    47.3\n",
       "3    54.8\n",
       "4    43.1\n",
       "Name: Y house price of unit area, dtype: float64"
      ]
     },
     "execution_count": 116,
     "metadata": {},
     "output_type": "execute_result"
    }
   ],
   "source": [
    "y.head()"
   ]
  },
  {
   "cell_type": "markdown",
   "id": "eb14162c",
   "metadata": {},
   "source": [
    "# Min-Max scaling"
   ]
  },
  {
   "cell_type": "code",
   "execution_count": 117,
   "id": "4e781d60",
   "metadata": {},
   "outputs": [],
   "source": [
    "from sklearn.preprocessing import MinMaxScaler"
   ]
  },
  {
   "cell_type": "code",
   "execution_count": 118,
   "id": "b4ea4547",
   "metadata": {},
   "outputs": [],
   "source": [
    "scaler = MinMaxScaler()"
   ]
  },
  {
   "cell_type": "code",
   "execution_count": 119,
   "id": "6693c0b1",
   "metadata": {},
   "outputs": [
    {
     "name": "stdout",
     "output_type": "stream",
     "text": [
      "      No  X1 transaction date  X2 house age  \\\n",
      "0      1             0.272926      0.730594   \n",
      "1      2             0.272926      0.445205   \n",
      "2      3             1.000000      0.303653   \n",
      "3      4             0.909389      0.303653   \n",
      "4      5             0.181223      0.114155   \n",
      "..   ...                  ...           ...   \n",
      "409  410             0.363537      0.312785   \n",
      "410  411             0.000000      0.127854   \n",
      "411  412             0.636463      0.429224   \n",
      "412  413             0.363537      0.184932   \n",
      "413  414             0.909389      0.148402   \n",
      "\n",
      "     X3 distance to the nearest MRT station  X4 number of convenience stores  \\\n",
      "0                                  0.009513                              1.0   \n",
      "1                                  0.043809                              0.9   \n",
      "2                                  0.083315                              0.5   \n",
      "3                                  0.083315                              0.5   \n",
      "4                                  0.056799                              0.5   \n",
      "..                                      ...                              ...   \n",
      "409                                0.627820                              0.0   \n",
      "410                                0.010375                              0.9   \n",
      "411                                0.056861                              0.7   \n",
      "412                                0.012596                              0.5   \n",
      "413                                0.010375                              0.9   \n",
      "\n",
      "     X5 latitude  X6 longitude  \n",
      "0       0.616941      0.719323  \n",
      "1       0.584949      0.711451  \n",
      "2       0.671231      0.758896  \n",
      "3       0.671231      0.758896  \n",
      "4       0.573194      0.743153  \n",
      "..           ...           ...  \n",
      "409     0.114881      0.326504  \n",
      "410     0.512118      0.750162  \n",
      "411     0.571498      0.715225  \n",
      "412     0.420141      0.723959  \n",
      "413     0.512118      0.750162  \n",
      "\n",
      "[414 rows x 7 columns]\n"
     ]
    }
   ],
   "source": [
    "#Loop\n",
    "columns_to_MinMax = ['X1 transaction date', 'X2 house age', 'X3 distance to the nearest MRT station','X4 number of convenience stores','X5 latitude','X6 longitude']\n",
    "# Loop through each column and normalize\n",
    "for column in columns_to_MinMax:\n",
    "    x[[column]] = scaler.fit_transform(x[[column]])\n",
    "\n",
    "# Print the normalized data\n",
    "print(x)"
   ]
  },
  {
   "cell_type": "markdown",
   "id": "09460b9d",
   "metadata": {},
   "source": [
    "# xtrain, xtest, ytrain, ytest Split"
   ]
  },
  {
   "cell_type": "code",
   "execution_count": 120,
   "id": "2816c616",
   "metadata": {},
   "outputs": [],
   "source": [
    "xtrain, xtest, ytrain, ytest = train_test_split(x, y, test_size=.30, random_state=42)"
   ]
  },
  {
   "cell_type": "code",
   "execution_count": 121,
   "id": "dfa186ad",
   "metadata": {},
   "outputs": [
    {
     "data": {
      "text/html": [
       "<div>\n",
       "<style scoped>\n",
       "    .dataframe tbody tr th:only-of-type {\n",
       "        vertical-align: middle;\n",
       "    }\n",
       "\n",
       "    .dataframe tbody tr th {\n",
       "        vertical-align: top;\n",
       "    }\n",
       "\n",
       "    .dataframe thead th {\n",
       "        text-align: right;\n",
       "    }\n",
       "</style>\n",
       "<table border=\"1\" class=\"dataframe\">\n",
       "  <thead>\n",
       "    <tr style=\"text-align: right;\">\n",
       "      <th></th>\n",
       "      <th>No</th>\n",
       "      <th>X1 transaction date</th>\n",
       "      <th>X2 house age</th>\n",
       "      <th>X3 distance to the nearest MRT station</th>\n",
       "      <th>X4 number of convenience stores</th>\n",
       "      <th>X5 latitude</th>\n",
       "      <th>X6 longitude</th>\n",
       "    </tr>\n",
       "  </thead>\n",
       "  <tbody>\n",
       "    <tr>\n",
       "      <th>7</th>\n",
       "      <td>8</td>\n",
       "      <td>0.818777</td>\n",
       "      <td>0.463470</td>\n",
       "      <td>0.040872</td>\n",
       "      <td>0.6</td>\n",
       "      <td>0.585919</td>\n",
       "      <td>0.741320</td>\n",
       "    </tr>\n",
       "    <tr>\n",
       "      <th>194</th>\n",
       "      <td>195</td>\n",
       "      <td>0.909389</td>\n",
       "      <td>0.347032</td>\n",
       "      <td>0.579849</td>\n",
       "      <td>0.0</td>\n",
       "      <td>0.018905</td>\n",
       "      <td>0.410287</td>\n",
       "    </tr>\n",
       "    <tr>\n",
       "      <th>19</th>\n",
       "      <td>20</td>\n",
       "      <td>0.000000</td>\n",
       "      <td>0.034247</td>\n",
       "      <td>0.000000</td>\n",
       "      <td>0.7</td>\n",
       "      <td>0.432016</td>\n",
       "      <td>0.727733</td>\n",
       "    </tr>\n",
       "    <tr>\n",
       "      <th>176</th>\n",
       "      <td>177</td>\n",
       "      <td>0.181223</td>\n",
       "      <td>0.317352</td>\n",
       "      <td>0.703890</td>\n",
       "      <td>0.0</td>\n",
       "      <td>0.201163</td>\n",
       "      <td>0.232262</td>\n",
       "    </tr>\n",
       "    <tr>\n",
       "      <th>367</th>\n",
       "      <td>368</td>\n",
       "      <td>0.181223</td>\n",
       "      <td>0.342466</td>\n",
       "      <td>0.279201</td>\n",
       "      <td>0.2</td>\n",
       "      <td>0.394692</td>\n",
       "      <td>0.450507</td>\n",
       "    </tr>\n",
       "  </tbody>\n",
       "</table>\n",
       "</div>"
      ],
      "text/plain": [
       "      No  X1 transaction date  X2 house age  \\\n",
       "7      8             0.818777      0.463470   \n",
       "194  195             0.909389      0.347032   \n",
       "19    20             0.000000      0.034247   \n",
       "176  177             0.181223      0.317352   \n",
       "367  368             0.181223      0.342466   \n",
       "\n",
       "     X3 distance to the nearest MRT station  X4 number of convenience stores  \\\n",
       "7                                  0.040872                              0.6   \n",
       "194                                0.579849                              0.0   \n",
       "19                                 0.000000                              0.7   \n",
       "176                                0.703890                              0.0   \n",
       "367                                0.279201                              0.2   \n",
       "\n",
       "     X5 latitude  X6 longitude  \n",
       "7       0.585919      0.741320  \n",
       "194     0.018905      0.410287  \n",
       "19      0.432016      0.727733  \n",
       "176     0.201163      0.232262  \n",
       "367     0.394692      0.450507  "
      ]
     },
     "execution_count": 121,
     "metadata": {},
     "output_type": "execute_result"
    }
   ],
   "source": [
    "xtrain.head()"
   ]
  },
  {
   "cell_type": "code",
   "execution_count": 122,
   "id": "0cd8c779",
   "metadata": {},
   "outputs": [
    {
     "data": {
      "text/html": [
       "<div>\n",
       "<style scoped>\n",
       "    .dataframe tbody tr th:only-of-type {\n",
       "        vertical-align: middle;\n",
       "    }\n",
       "\n",
       "    .dataframe tbody tr th {\n",
       "        vertical-align: top;\n",
       "    }\n",
       "\n",
       "    .dataframe thead th {\n",
       "        text-align: right;\n",
       "    }\n",
       "</style>\n",
       "<table border=\"1\" class=\"dataframe\">\n",
       "  <thead>\n",
       "    <tr style=\"text-align: right;\">\n",
       "      <th></th>\n",
       "      <th>No</th>\n",
       "      <th>X1 transaction date</th>\n",
       "      <th>X2 house age</th>\n",
       "      <th>X3 distance to the nearest MRT station</th>\n",
       "      <th>X4 number of convenience stores</th>\n",
       "      <th>X5 latitude</th>\n",
       "      <th>X6 longitude</th>\n",
       "    </tr>\n",
       "  </thead>\n",
       "  <tbody>\n",
       "    <tr>\n",
       "      <th>358</th>\n",
       "      <td>359</td>\n",
       "      <td>0.545852</td>\n",
       "      <td>0.025114</td>\n",
       "      <td>0.026328</td>\n",
       "      <td>0.6</td>\n",
       "      <td>0.407659</td>\n",
       "      <td>0.726332</td>\n",
       "    </tr>\n",
       "    <tr>\n",
       "      <th>350</th>\n",
       "      <td>351</td>\n",
       "      <td>0.363537</td>\n",
       "      <td>0.301370</td>\n",
       "      <td>0.072525</td>\n",
       "      <td>0.5</td>\n",
       "      <td>0.400873</td>\n",
       "      <td>0.688376</td>\n",
       "    </tr>\n",
       "    <tr>\n",
       "      <th>373</th>\n",
       "      <td>374</td>\n",
       "      <td>0.454148</td>\n",
       "      <td>0.000000</td>\n",
       "      <td>0.038770</td>\n",
       "      <td>0.1</td>\n",
       "      <td>0.517814</td>\n",
       "      <td>0.615268</td>\n",
       "    </tr>\n",
       "    <tr>\n",
       "      <th>399</th>\n",
       "      <td>400</td>\n",
       "      <td>0.272926</td>\n",
       "      <td>0.289954</td>\n",
       "      <td>0.022700</td>\n",
       "      <td>0.1</td>\n",
       "      <td>0.504605</td>\n",
       "      <td>0.607181</td>\n",
       "    </tr>\n",
       "    <tr>\n",
       "      <th>369</th>\n",
       "      <td>370</td>\n",
       "      <td>0.000000</td>\n",
       "      <td>0.461187</td>\n",
       "      <td>0.334395</td>\n",
       "      <td>0.3</td>\n",
       "      <td>0.377484</td>\n",
       "      <td>0.418805</td>\n",
       "    </tr>\n",
       "  </tbody>\n",
       "</table>\n",
       "</div>"
      ],
      "text/plain": [
       "      No  X1 transaction date  X2 house age  \\\n",
       "358  359             0.545852      0.025114   \n",
       "350  351             0.363537      0.301370   \n",
       "373  374             0.454148      0.000000   \n",
       "399  400             0.272926      0.289954   \n",
       "369  370             0.000000      0.461187   \n",
       "\n",
       "     X3 distance to the nearest MRT station  X4 number of convenience stores  \\\n",
       "358                                0.026328                              0.6   \n",
       "350                                0.072525                              0.5   \n",
       "373                                0.038770                              0.1   \n",
       "399                                0.022700                              0.1   \n",
       "369                                0.334395                              0.3   \n",
       "\n",
       "     X5 latitude  X6 longitude  \n",
       "358     0.407659      0.726332  \n",
       "350     0.400873      0.688376  \n",
       "373     0.517814      0.615268  \n",
       "399     0.504605      0.607181  \n",
       "369     0.377484      0.418805  "
      ]
     },
     "execution_count": 122,
     "metadata": {},
     "output_type": "execute_result"
    }
   ],
   "source": [
    "xtest.head()"
   ]
  },
  {
   "cell_type": "markdown",
   "id": "3bcca93c",
   "metadata": {},
   "source": [
    "# LR"
   ]
  },
  {
   "cell_type": "code",
   "execution_count": 124,
   "id": "0d2c8b1f",
   "metadata": {},
   "outputs": [],
   "source": [
    "from sklearn.linear_model import LinearRegression\n",
    "reggg = LinearRegression()"
   ]
  },
  {
   "cell_type": "code",
   "execution_count": 125,
   "id": "42977697",
   "metadata": {},
   "outputs": [
    {
     "data": {
      "text/plain": [
       "LinearRegression()"
      ]
     },
     "execution_count": 125,
     "metadata": {},
     "output_type": "execute_result"
    }
   ],
   "source": [
    "reggg.fit(xtrain, ytrain)"
   ]
  },
  {
   "cell_type": "code",
   "execution_count": 126,
   "id": "413b8256",
   "metadata": {},
   "outputs": [
    {
     "data": {
      "text/plain": [
       "array([-6.25951905e-03,  5.36756101e+00, -1.04908169e+01, -3.38069115e+01,\n",
       "        1.06493330e+01,  1.94852971e+01, -5.05142798e+00])"
      ]
     },
     "execution_count": 126,
     "metadata": {},
     "output_type": "execute_result"
    }
   ],
   "source": [
    "reggg.coef_"
   ]
  },
  {
   "cell_type": "code",
   "execution_count": 127,
   "id": "0e869049",
   "metadata": {},
   "outputs": [
    {
     "data": {
      "text/plain": [
       "36.44187805362507"
      ]
     },
     "execution_count": 127,
     "metadata": {},
     "output_type": "execute_result"
    }
   ],
   "source": [
    "reggg.intercept_"
   ]
  },
  {
   "cell_type": "code",
   "execution_count": 128,
   "id": "964b3587",
   "metadata": {},
   "outputs": [],
   "source": [
    "from sklearn.metrics import mean_squared_error, mean_absolute_error, r2_score\n",
    "y_train_pred = reggg.predict(xtrain)\n",
    "y_test_pred = reggg.predict(xtest)\n",
    "mse_train = mean_squared_error(ytrain, y_train_pred)\n",
    "r2_train = r2_score(ytrain, y_train_pred)\n",
    "mse_test = mean_squared_error(ytest, y_test_pred)\n",
    "r2_test = r2_score(ytest, y_test_pred)\n"
   ]
  },
  {
   "cell_type": "code",
   "execution_count": 129,
   "id": "2d948bc1",
   "metadata": {},
   "outputs": [
    {
     "name": "stdout",
     "output_type": "stream",
     "text": [
      "The training score is, 0.5888965057262947\n",
      "The testing score is, 0.5532450005319689\n"
     ]
    }
   ],
   "source": [
    "eval(reggg, xtrain, ytrain, xtest, ytest)"
   ]
  },
  {
   "cell_type": "code",
   "execution_count": 130,
   "id": "cd1ae7c5",
   "metadata": {},
   "outputs": [],
   "source": [
    " ypred = reggg.predict(xtest)"
   ]
  },
  {
   "cell_type": "code",
   "execution_count": 131,
   "id": "a65d5a9e",
   "metadata": {},
   "outputs": [
    {
     "name": "stdout",
     "output_type": "stream",
     "text": [
      "The mean absolute error is:  6.266422833089082\n",
      "The mean squared error is:  74.70865668110225\n",
      "The R2 score is:  0.5532450005319689\n"
     ]
    }
   ],
   "source": [
    "metric_score(ytest, ypred)"
   ]
  },
  {
   "cell_type": "code",
   "execution_count": null,
   "id": "f464613c",
   "metadata": {},
   "outputs": [],
   "source": []
  }
 ],
 "metadata": {
  "kernelspec": {
   "display_name": "Python 3 (ipykernel)",
   "language": "python",
   "name": "python3"
  },
  "language_info": {
   "codemirror_mode": {
    "name": "ipython",
    "version": 3
   },
   "file_extension": ".py",
   "mimetype": "text/x-python",
   "name": "python",
   "nbconvert_exporter": "python",
   "pygments_lexer": "ipython3",
   "version": "3.9.12"
  }
 },
 "nbformat": 4,
 "nbformat_minor": 5
}
